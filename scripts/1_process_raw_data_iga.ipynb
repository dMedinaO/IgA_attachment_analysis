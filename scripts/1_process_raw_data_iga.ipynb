{
 "cells": [
  {
   "cell_type": "markdown",
   "id": "b4a51510",
   "metadata": {},
   "source": [
    "- Handling warnings"
   ]
  },
  {
   "cell_type": "code",
   "execution_count": 47,
   "id": "92ea1425",
   "metadata": {},
   "outputs": [],
   "source": [
    "import warnings\n",
    "warnings.filterwarnings(\"ignore\")"
   ]
  },
  {
   "cell_type": "markdown",
   "id": "2c342f12",
   "metadata": {},
   "source": [
    "- Loading modules"
   ]
  },
  {
   "cell_type": "code",
   "execution_count": 48,
   "id": "f352b803",
   "metadata": {},
   "outputs": [],
   "source": [
    "import pandas as pd\n",
    "import numpy as np\n",
    "import json"
   ]
  },
  {
   "cell_type": "markdown",
   "id": "3288f5f6",
   "metadata": {},
   "source": [
    "- Implementation of Auxiliar functions"
   ]
  },
  {
   "cell_type": "code",
   "execution_count": 49,
   "id": "3009c821",
   "metadata": {},
   "outputs": [],
   "source": [
    "def get_average_measure(morning_d1, morning_d2):\n",
    "\n",
    "    if not pd.isna(morning_d1) and not pd.isna(morning_d2):\n",
    "        average_morning = np.mean([morning_d1, morning_d2])\n",
    "    elif not pd.isna(morning_d1):\n",
    "        average_morning = morning_d1\n",
    "    elif not pd.isna(morning_d2):\n",
    "        average_morning = morning_d2\n",
    "    else:\n",
    "        average_morning = np.nan\n",
    "    \n",
    "    return average_morning"
   ]
  },
  {
   "cell_type": "code",
   "execution_count": 50,
   "id": "2c0982c4",
   "metadata": {},
   "outputs": [],
   "source": [
    "def get_average_difference(row):\n",
    "    diffs = [] \n",
    "\n",
    "    if pd.notna(row['IgA D1-Afternoon']) and pd.notna(row['IgA D1-Morning']):\n",
    "        diffs.append(row['IgA D1-Afternoon'] - row['IgA D1-Morning'])\n",
    "    if pd.notna(row['IgA D2-Afternoon']) and pd.notna(row['IgA D2-Morning']):\n",
    "        diffs.append(row['IgA D2-Afternoon'] - row['IgA D2-Morning'])\n",
    "    \n",
    "    if len(diffs) > 0:\n",
    "        return np.mean(diffs)\n",
    "    else:\n",
    "        return np.nan"
   ]
  },
  {
   "cell_type": "markdown",
   "id": "cdc1f825",
   "metadata": {},
   "source": [
    "- Reading raw data"
   ]
  },
  {
   "cell_type": "code",
   "execution_count": 51,
   "id": "a31f339e",
   "metadata": {},
   "outputs": [
    {
     "data": {
      "text/html": [
       "<div>\n",
       "<style scoped>\n",
       "    .dataframe tbody tr th:only-of-type {\n",
       "        vertical-align: middle;\n",
       "    }\n",
       "\n",
       "    .dataframe tbody tr th {\n",
       "        vertical-align: top;\n",
       "    }\n",
       "\n",
       "    .dataframe thead th {\n",
       "        text-align: right;\n",
       "    }\n",
       "</style>\n",
       "<table border=\"1\" class=\"dataframe\">\n",
       "  <thead>\n",
       "    <tr style=\"text-align: right;\">\n",
       "      <th></th>\n",
       "      <th>m1</th>\n",
       "      <th>m2</th>\n",
       "      <th>m3</th>\n",
       "      <th>m4</th>\n",
       "      <th>N°_diada</th>\n",
       "      <th>BienestarV1</th>\n",
       "      <th>BienestarV2</th>\n",
       "      <th>BienestarAv</th>\n",
       "      <th>Género_bebé</th>\n",
       "      <th>Edad_bebé_1</th>\n",
       "      <th>...</th>\n",
       "      <th>ads_a_i_pv_2</th>\n",
       "      <th>ads_m_i_pv_2_r</th>\n",
       "      <th>ads_v_i_pv_r</th>\n",
       "      <th>ads_ta_i_pv_2_r</th>\n",
       "      <th>ads_sa_i_pv_r</th>\n",
       "      <th>ads_a_i_pv_2_r</th>\n",
       "      <th>ads_p_i_pv_r</th>\n",
       "      <th>countinsecurei_2020</th>\n",
       "      <th>countsecurei_2020</th>\n",
       "      <th>ADS2i_2020</th>\n",
       "    </tr>\n",
       "  </thead>\n",
       "  <tbody>\n",
       "    <tr>\n",
       "      <th>0</th>\n",
       "      <td>20.076728</td>\n",
       "      <td>31.719207</td>\n",
       "      <td>23.453752</td>\n",
       "      <td>25.016903</td>\n",
       "      <td>1</td>\n",
       "      <td>5.0</td>\n",
       "      <td>4.0</td>\n",
       "      <td>4.5</td>\n",
       "      <td>1</td>\n",
       "      <td>5</td>\n",
       "      <td>...</td>\n",
       "      <td>3.0</td>\n",
       "      <td>0.0</td>\n",
       "      <td>1.0</td>\n",
       "      <td>0.0</td>\n",
       "      <td>1.0</td>\n",
       "      <td>1.0</td>\n",
       "      <td>0.0</td>\n",
       "      <td>3</td>\n",
       "      <td>3</td>\n",
       "      <td>0</td>\n",
       "    </tr>\n",
       "    <tr>\n",
       "      <th>1</th>\n",
       "      <td>28.584920</td>\n",
       "      <td>82.400761</td>\n",
       "      <td>28.361209</td>\n",
       "      <td>19.363161</td>\n",
       "      <td>4</td>\n",
       "      <td>NaN</td>\n",
       "      <td>NaN</td>\n",
       "      <td>NaN</td>\n",
       "      <td>1</td>\n",
       "      <td>10</td>\n",
       "      <td>...</td>\n",
       "      <td>4.0</td>\n",
       "      <td>0.0</td>\n",
       "      <td>1.0</td>\n",
       "      <td>0.0</td>\n",
       "      <td>1.0</td>\n",
       "      <td>1.0</td>\n",
       "      <td>0.0</td>\n",
       "      <td>3</td>\n",
       "      <td>3</td>\n",
       "      <td>0</td>\n",
       "    </tr>\n",
       "    <tr>\n",
       "      <th>2</th>\n",
       "      <td>161.424693</td>\n",
       "      <td>46.867951</td>\n",
       "      <td>NaN</td>\n",
       "      <td>NaN</td>\n",
       "      <td>5</td>\n",
       "      <td>NaN</td>\n",
       "      <td>NaN</td>\n",
       "      <td>NaN</td>\n",
       "      <td>0</td>\n",
       "      <td>5</td>\n",
       "      <td>...</td>\n",
       "      <td>3.0</td>\n",
       "      <td>0.0</td>\n",
       "      <td>1.0</td>\n",
       "      <td>0.0</td>\n",
       "      <td>1.0</td>\n",
       "      <td>1.0</td>\n",
       "      <td>0.0</td>\n",
       "      <td>3</td>\n",
       "      <td>3</td>\n",
       "      <td>0</td>\n",
       "    </tr>\n",
       "    <tr>\n",
       "      <th>3</th>\n",
       "      <td>26.747838</td>\n",
       "      <td>NaN</td>\n",
       "      <td>21.599136</td>\n",
       "      <td>35.942378</td>\n",
       "      <td>7</td>\n",
       "      <td>4.0</td>\n",
       "      <td>4.0</td>\n",
       "      <td>4.0</td>\n",
       "      <td>0</td>\n",
       "      <td>12</td>\n",
       "      <td>...</td>\n",
       "      <td>3.0</td>\n",
       "      <td>0.0</td>\n",
       "      <td>1.0</td>\n",
       "      <td>0.0</td>\n",
       "      <td>0.0</td>\n",
       "      <td>1.0</td>\n",
       "      <td>0.0</td>\n",
       "      <td>4</td>\n",
       "      <td>2</td>\n",
       "      <td>0</td>\n",
       "    </tr>\n",
       "    <tr>\n",
       "      <th>4</th>\n",
       "      <td>118.901337</td>\n",
       "      <td>NaN</td>\n",
       "      <td>37.125222</td>\n",
       "      <td>382.715268</td>\n",
       "      <td>11</td>\n",
       "      <td>4.0</td>\n",
       "      <td>4.0</td>\n",
       "      <td>4.0</td>\n",
       "      <td>1</td>\n",
       "      <td>8</td>\n",
       "      <td>...</td>\n",
       "      <td>NaN</td>\n",
       "      <td>NaN</td>\n",
       "      <td>NaN</td>\n",
       "      <td>NaN</td>\n",
       "      <td>NaN</td>\n",
       "      <td>NaN</td>\n",
       "      <td>NaN</td>\n",
       "      <td>999</td>\n",
       "      <td>999</td>\n",
       "      <td>999</td>\n",
       "    </tr>\n",
       "  </tbody>\n",
       "</table>\n",
       "<p>5 rows × 379 columns</p>\n",
       "</div>"
      ],
      "text/plain": [
       "           m1         m2         m3          m4  N°_diada  BienestarV1  \\\n",
       "0   20.076728  31.719207  23.453752   25.016903         1          5.0   \n",
       "1   28.584920  82.400761  28.361209   19.363161         4          NaN   \n",
       "2  161.424693  46.867951        NaN         NaN         5          NaN   \n",
       "3   26.747838        NaN  21.599136   35.942378         7          4.0   \n",
       "4  118.901337        NaN  37.125222  382.715268        11          4.0   \n",
       "\n",
       "   BienestarV2  BienestarAv  Género_bebé  Edad_bebé_1  ...  ads_a_i_pv_2  \\\n",
       "0          4.0          4.5            1            5  ...           3.0   \n",
       "1          NaN          NaN            1           10  ...           4.0   \n",
       "2          NaN          NaN            0            5  ...           3.0   \n",
       "3          4.0          4.0            0           12  ...           3.0   \n",
       "4          4.0          4.0            1            8  ...           NaN   \n",
       "\n",
       "   ads_m_i_pv_2_r  ads_v_i_pv_r  ads_ta_i_pv_2_r  ads_sa_i_pv_r  \\\n",
       "0             0.0           1.0              0.0            1.0   \n",
       "1             0.0           1.0              0.0            1.0   \n",
       "2             0.0           1.0              0.0            1.0   \n",
       "3             0.0           1.0              0.0            0.0   \n",
       "4             NaN           NaN              NaN            NaN   \n",
       "\n",
       "   ads_a_i_pv_2_r  ads_p_i_pv_r  countinsecurei_2020  countsecurei_2020  \\\n",
       "0             1.0           0.0                    3                  3   \n",
       "1             1.0           0.0                    3                  3   \n",
       "2             1.0           0.0                    3                  3   \n",
       "3             1.0           0.0                    4                  2   \n",
       "4             NaN           NaN                  999                999   \n",
       "\n",
       "   ADS2i_2020  \n",
       "0           0  \n",
       "1           0  \n",
       "2           0  \n",
       "3           0  \n",
       "4         999  \n",
       "\n",
       "[5 rows x 379 columns]"
      ]
     },
     "execution_count": 51,
     "metadata": {},
     "output_type": "execute_result"
    }
   ],
   "source": [
    "df_data = pd.read_csv(\"../raw_data/sIgA_data/raw_data.csv\")\n",
    "df_data.head(5)"
   ]
  },
  {
   "cell_type": "markdown",
   "id": "a357ec59",
   "metadata": {},
   "source": [
    "- Defining columns to use"
   ]
  },
  {
   "cell_type": "code",
   "execution_count": 52,
   "id": "53631c97",
   "metadata": {},
   "outputs": [],
   "source": [
    "columns_to_use = [\"N°_diada\", 'm1','m2','m3','m4', 'Género_bebé', \"Apego_dic_SSP\"]"
   ]
  },
  {
   "cell_type": "markdown",
   "id": "ae6f4f38",
   "metadata": {},
   "source": [
    "- Selecting data from raw dataset"
   ]
  },
  {
   "cell_type": "code",
   "execution_count": 53,
   "id": "a672f995",
   "metadata": {},
   "outputs": [
    {
     "data": {
      "text/html": [
       "<div>\n",
       "<style scoped>\n",
       "    .dataframe tbody tr th:only-of-type {\n",
       "        vertical-align: middle;\n",
       "    }\n",
       "\n",
       "    .dataframe tbody tr th {\n",
       "        vertical-align: top;\n",
       "    }\n",
       "\n",
       "    .dataframe thead th {\n",
       "        text-align: right;\n",
       "    }\n",
       "</style>\n",
       "<table border=\"1\" class=\"dataframe\">\n",
       "  <thead>\n",
       "    <tr style=\"text-align: right;\">\n",
       "      <th></th>\n",
       "      <th>N°_diada</th>\n",
       "      <th>m1</th>\n",
       "      <th>m2</th>\n",
       "      <th>m3</th>\n",
       "      <th>m4</th>\n",
       "      <th>Género_bebé</th>\n",
       "      <th>Apego_dic_SSP</th>\n",
       "    </tr>\n",
       "  </thead>\n",
       "  <tbody>\n",
       "    <tr>\n",
       "      <th>0</th>\n",
       "      <td>1</td>\n",
       "      <td>20.076728</td>\n",
       "      <td>31.719207</td>\n",
       "      <td>23.453752</td>\n",
       "      <td>25.016903</td>\n",
       "      <td>1</td>\n",
       "      <td>0.0</td>\n",
       "    </tr>\n",
       "    <tr>\n",
       "      <th>1</th>\n",
       "      <td>4</td>\n",
       "      <td>28.584920</td>\n",
       "      <td>82.400761</td>\n",
       "      <td>28.361209</td>\n",
       "      <td>19.363161</td>\n",
       "      <td>1</td>\n",
       "      <td>1.0</td>\n",
       "    </tr>\n",
       "    <tr>\n",
       "      <th>2</th>\n",
       "      <td>5</td>\n",
       "      <td>161.424693</td>\n",
       "      <td>46.867951</td>\n",
       "      <td>NaN</td>\n",
       "      <td>NaN</td>\n",
       "      <td>0</td>\n",
       "      <td>1.0</td>\n",
       "    </tr>\n",
       "    <tr>\n",
       "      <th>3</th>\n",
       "      <td>7</td>\n",
       "      <td>26.747838</td>\n",
       "      <td>NaN</td>\n",
       "      <td>21.599136</td>\n",
       "      <td>35.942378</td>\n",
       "      <td>0</td>\n",
       "      <td>0.0</td>\n",
       "    </tr>\n",
       "    <tr>\n",
       "      <th>4</th>\n",
       "      <td>11</td>\n",
       "      <td>118.901337</td>\n",
       "      <td>NaN</td>\n",
       "      <td>37.125222</td>\n",
       "      <td>382.715268</td>\n",
       "      <td>1</td>\n",
       "      <td>NaN</td>\n",
       "    </tr>\n",
       "  </tbody>\n",
       "</table>\n",
       "</div>"
      ],
      "text/plain": [
       "   N°_diada          m1         m2         m3          m4  Género_bebé  \\\n",
       "0         1   20.076728  31.719207  23.453752   25.016903            1   \n",
       "1         4   28.584920  82.400761  28.361209   19.363161            1   \n",
       "2         5  161.424693  46.867951        NaN         NaN            0   \n",
       "3         7   26.747838        NaN  21.599136   35.942378            0   \n",
       "4        11  118.901337        NaN  37.125222  382.715268            1   \n",
       "\n",
       "   Apego_dic_SSP  \n",
       "0            0.0  \n",
       "1            1.0  \n",
       "2            1.0  \n",
       "3            0.0  \n",
       "4            NaN  "
      ]
     },
     "execution_count": 53,
     "metadata": {},
     "output_type": "execute_result"
    }
   ],
   "source": [
    "data_selection = df_data[columns_to_use]\n",
    "data_selection.head(5)"
   ]
  },
  {
   "cell_type": "markdown",
   "id": "969b0a7d",
   "metadata": {},
   "source": [
    "- Change name columns"
   ]
  },
  {
   "cell_type": "code",
   "execution_count": 54,
   "id": "3d731e28",
   "metadata": {},
   "outputs": [
    {
     "data": {
      "text/html": [
       "<div>\n",
       "<style scoped>\n",
       "    .dataframe tbody tr th:only-of-type {\n",
       "        vertical-align: middle;\n",
       "    }\n",
       "\n",
       "    .dataframe tbody tr th {\n",
       "        vertical-align: top;\n",
       "    }\n",
       "\n",
       "    .dataframe thead th {\n",
       "        text-align: right;\n",
       "    }\n",
       "</style>\n",
       "<table border=\"1\" class=\"dataframe\">\n",
       "  <thead>\n",
       "    <tr style=\"text-align: right;\">\n",
       "      <th></th>\n",
       "      <th>ID</th>\n",
       "      <th>IgA D1-Morning</th>\n",
       "      <th>IgA D1-Afternoon</th>\n",
       "      <th>IgA D2-Morning</th>\n",
       "      <th>IgA D2-Afternoon</th>\n",
       "      <th>Gender</th>\n",
       "      <th>Attachment</th>\n",
       "    </tr>\n",
       "  </thead>\n",
       "  <tbody>\n",
       "    <tr>\n",
       "      <th>0</th>\n",
       "      <td>1</td>\n",
       "      <td>20.076728</td>\n",
       "      <td>31.719207</td>\n",
       "      <td>23.453752</td>\n",
       "      <td>25.016903</td>\n",
       "      <td>1</td>\n",
       "      <td>0.0</td>\n",
       "    </tr>\n",
       "    <tr>\n",
       "      <th>1</th>\n",
       "      <td>4</td>\n",
       "      <td>28.584920</td>\n",
       "      <td>82.400761</td>\n",
       "      <td>28.361209</td>\n",
       "      <td>19.363161</td>\n",
       "      <td>1</td>\n",
       "      <td>1.0</td>\n",
       "    </tr>\n",
       "    <tr>\n",
       "      <th>2</th>\n",
       "      <td>5</td>\n",
       "      <td>161.424693</td>\n",
       "      <td>46.867951</td>\n",
       "      <td>NaN</td>\n",
       "      <td>NaN</td>\n",
       "      <td>0</td>\n",
       "      <td>1.0</td>\n",
       "    </tr>\n",
       "    <tr>\n",
       "      <th>3</th>\n",
       "      <td>7</td>\n",
       "      <td>26.747838</td>\n",
       "      <td>NaN</td>\n",
       "      <td>21.599136</td>\n",
       "      <td>35.942378</td>\n",
       "      <td>0</td>\n",
       "      <td>0.0</td>\n",
       "    </tr>\n",
       "    <tr>\n",
       "      <th>4</th>\n",
       "      <td>11</td>\n",
       "      <td>118.901337</td>\n",
       "      <td>NaN</td>\n",
       "      <td>37.125222</td>\n",
       "      <td>382.715268</td>\n",
       "      <td>1</td>\n",
       "      <td>NaN</td>\n",
       "    </tr>\n",
       "  </tbody>\n",
       "</table>\n",
       "</div>"
      ],
      "text/plain": [
       "   ID  IgA D1-Morning  IgA D1-Afternoon  IgA D2-Morning  IgA D2-Afternoon  \\\n",
       "0   1       20.076728         31.719207       23.453752         25.016903   \n",
       "1   4       28.584920         82.400761       28.361209         19.363161   \n",
       "2   5      161.424693         46.867951             NaN               NaN   \n",
       "3   7       26.747838               NaN       21.599136         35.942378   \n",
       "4  11      118.901337               NaN       37.125222        382.715268   \n",
       "\n",
       "   Gender  Attachment  \n",
       "0       1         0.0  \n",
       "1       1         1.0  \n",
       "2       0         1.0  \n",
       "3       0         0.0  \n",
       "4       1         NaN  "
      ]
     },
     "execution_count": 54,
     "metadata": {},
     "output_type": "execute_result"
    }
   ],
   "source": [
    "data_selection.columns = [\"ID\", 'IgA D1-Morning', 'IgA D1-Afternoon', \n",
    "                          'IgA D2-Morning', 'IgA D2-Afternoon', 'Gender', 'Attachment']\n",
    "data_selection.head(5)"
   ]
  },
  {
   "cell_type": "markdown",
   "id": "26e2643a",
   "metadata": {},
   "source": [
    "- Get average morning and afternoon"
   ]
  },
  {
   "cell_type": "code",
   "execution_count": 55,
   "id": "bca5c1b1",
   "metadata": {},
   "outputs": [],
   "source": [
    "data_selection[\"IgA_Average_Morning\"] = data_selection.apply(\n",
    "    lambda row: get_average_measure(row[\"IgA D1-Morning\"], row[\"IgA D2-Morning\"]),\n",
    "    axis=1\n",
    ")"
   ]
  },
  {
   "cell_type": "code",
   "execution_count": 56,
   "id": "b8bc6443",
   "metadata": {},
   "outputs": [],
   "source": [
    "data_selection[\"IgA_Average_Afternoon\"] = data_selection.apply(\n",
    "    lambda row: get_average_measure(row[\"IgA D1-Afternoon\"], row[\"IgA D2-Afternoon\"]),\n",
    "    axis=1\n",
    ")"
   ]
  },
  {
   "cell_type": "markdown",
   "id": "bdb182d2",
   "metadata": {},
   "source": [
    "- Get average differences"
   ]
  },
  {
   "cell_type": "code",
   "execution_count": 57,
   "id": "9c4b403a",
   "metadata": {},
   "outputs": [],
   "source": [
    "data_selection[\"Average_Difference\"] = data_selection.apply(get_average_difference, axis=1)"
   ]
  },
  {
   "cell_type": "markdown",
   "id": "00802a81",
   "metadata": {},
   "source": [
    "- Remove non necessary columns"
   ]
  },
  {
   "cell_type": "code",
   "execution_count": 58,
   "id": "5d8b217a",
   "metadata": {},
   "outputs": [],
   "source": [
    "data_selection = data_selection[['ID', 'Gender', 'IgA_Average_Morning', \n",
    "                                 'IgA_Average_Afternoon', 'Average_Difference', 'Attachment']]"
   ]
  },
  {
   "cell_type": "markdown",
   "id": "8c13d54b",
   "metadata": {},
   "source": [
    "- Working with Gender"
   ]
  },
  {
   "cell_type": "code",
   "execution_count": 59,
   "id": "5ac8ce93",
   "metadata": {},
   "outputs": [],
   "source": [
    "with open(\"../raw_data/sIgA_data/desc_columns.json\", 'r') as doc_open:\n",
    "    definitions_variables_doc = json.load(doc_open)"
   ]
  },
  {
   "cell_type": "code",
   "execution_count": 69,
   "id": "a41ec125",
   "metadata": {},
   "outputs": [
    {
     "data": {
      "text/plain": [
       "[{'nominal_value': '0', 'description': 'Femenino'},\n",
       " {'nominal_value': '1', 'description': 'Masculino'}]"
      ]
     },
     "execution_count": 69,
     "metadata": {},
     "output_type": "execute_result"
    }
   ],
   "source": [
    "definitions_variables_doc[1]['Género_bebé']"
   ]
  },
  {
   "cell_type": "code",
   "execution_count": 70,
   "id": "719002fc",
   "metadata": {},
   "outputs": [
    {
     "data": {
      "text/plain": [
       "Gender\n",
       "Female    20\n",
       "Male      15\n",
       "Name: count, dtype: int64"
      ]
     },
     "execution_count": 70,
     "metadata": {},
     "output_type": "execute_result"
    }
   ],
   "source": [
    "data_selection[\"Gender\"] = data_selection[\"Gender\"].replace({1: 'Male', 0: 'Female'})\n",
    "data_selection[\"Gender\"].value_counts()"
   ]
  },
  {
   "cell_type": "markdown",
   "id": "4a9065f9",
   "metadata": {},
   "source": [
    "- Checking attachment"
   ]
  },
  {
   "cell_type": "code",
   "execution_count": 71,
   "id": "68404f1d",
   "metadata": {},
   "outputs": [
    {
     "data": {
      "text/plain": [
       "Attachment\n",
       "1.0    18\n",
       "0.0     9\n",
       "Name: count, dtype: int64"
      ]
     },
     "execution_count": 71,
     "metadata": {},
     "output_type": "execute_result"
    }
   ],
   "source": [
    "data_selection[\"Attachment\"].value_counts()"
   ]
  },
  {
   "cell_type": "code",
   "execution_count": 78,
   "id": "1fda59ab",
   "metadata": {},
   "outputs": [
    {
     "data": {
      "text/plain": [
       "{'Apego_dic_SSP': [{'nominal_value': '0', 'description': 'insecure'},\n",
       "  {'nominal_value': '1', 'description': 'secure'}]}"
      ]
     },
     "execution_count": 78,
     "metadata": {},
     "output_type": "execute_result"
    }
   ],
   "source": [
    "for index in range(len(definitions_variables_doc)):\n",
    "    keys = list(definitions_variables_doc[index].keys())\n",
    "    if keys[0] == \"Apego_dic_SSP\":\n",
    "        break\n",
    "\n",
    "definitions_variables_doc[index]"
   ]
  },
  {
   "cell_type": "code",
   "execution_count": 80,
   "id": "246bf9e8",
   "metadata": {},
   "outputs": [
    {
     "data": {
      "text/plain": [
       "Attachment\n",
       "Secure      18\n",
       "Insecure     9\n",
       "Unknown      8\n",
       "Name: count, dtype: int64"
      ]
     },
     "execution_count": 80,
     "metadata": {},
     "output_type": "execute_result"
    }
   ],
   "source": [
    "data_selection['Attachment'] = data_selection['Attachment'].replace(\n",
    "    {1:'Secure', 0:'Insecure', np.nan:'Unknown'})\n",
    "data_selection['Attachment'].value_counts()"
   ]
  },
  {
   "cell_type": "markdown",
   "id": "781efa50",
   "metadata": {},
   "source": [
    "- Exporting processed data"
   ]
  },
  {
   "cell_type": "code",
   "execution_count": 82,
   "id": "a3e68982",
   "metadata": {},
   "outputs": [],
   "source": [
    "data_selection.to_csv(\"../processed_data/1_processed_data_IgA.csv\", index=False)"
   ]
  }
 ],
 "metadata": {
  "kernelspec": {
   "display_name": "training_models_pi",
   "language": "python",
   "name": "python3"
  },
  "language_info": {
   "codemirror_mode": {
    "name": "ipython",
    "version": 3
   },
   "file_extension": ".py",
   "mimetype": "text/x-python",
   "name": "python",
   "nbconvert_exporter": "python",
   "pygments_lexer": "ipython3",
   "version": "3.12.8"
  }
 },
 "nbformat": 4,
 "nbformat_minor": 5
}

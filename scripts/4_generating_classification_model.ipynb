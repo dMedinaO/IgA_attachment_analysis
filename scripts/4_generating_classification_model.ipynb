{
 "cells": [
  {
   "cell_type": "markdown",
   "id": "7969d893",
   "metadata": {},
   "source": [
    "- Handling warnings"
   ]
  },
  {
   "cell_type": "code",
   "execution_count": 134,
   "id": "e4661daa",
   "metadata": {},
   "outputs": [],
   "source": [
    "import warnings\n",
    "warnings.filterwarnings(\"ignore\")"
   ]
  },
  {
   "cell_type": "markdown",
   "id": "424392e2",
   "metadata": {},
   "source": [
    "- Loading modules"
   ]
  },
  {
   "cell_type": "code",
   "execution_count": 135,
   "id": "e455728a",
   "metadata": {},
   "outputs": [],
   "source": [
    "import pandas as pd\n",
    "from sklearn.tree import DecisionTreeClassifier, plot_tree\n",
    "from sklearn.ensemble import RandomForestClassifier\n",
    "from sklearn.neighbors import KNeighborsClassifier\n",
    "from sklearn.linear_model import LogisticRegression\n",
    "from sklearn.metrics import precision_score, recall_score, f1_score, matthews_corrcoef, accuracy_score, confusion_matrix\n",
    "from sklearn.preprocessing import MinMaxScaler\n",
    "from sklearn.model_selection import train_test_split\n",
    "import matplotlib.pyplot as plt\n",
    "from imblearn.over_sampling import SMOTE\n",
    "import numpy as np\n",
    "import shap\n",
    "import seaborn as sns\n",
    "import matplotlib.pyplot as plt\n",
    "from matplotlib.gridspec import GridSpec\n",
    "sns.set_style(\"whitegrid\")\n",
    "plt.rc('font', size=12)"
   ]
  },
  {
   "cell_type": "markdown",
   "id": "0dc32ef3",
   "metadata": {},
   "source": [
    "- Auxiliar functions"
   ]
  },
  {
   "cell_type": "code",
   "execution_count": 136,
   "id": "82f6380e",
   "metadata": {},
   "outputs": [],
   "source": [
    "def get_metrics(y_true, y_predict, method):\n",
    "    metrics_estimated = {\n",
    "        \"Method\" : method,\n",
    "        \"Accuracy\" : accuracy_score(y_true=y_true, y_pred=y_predict),\n",
    "        \"Precision\" : precision_score(y_true=y_true, y_pred=y_predict),\n",
    "        \"Recall\" : recall_score(y_true=y_true, y_pred=y_predict),\n",
    "        \"F1-score\" : f1_score(y_true=y_true, y_pred=y_predict),\n",
    "        \"MCC\" : matthews_corrcoef(y_true=y_true, y_pred=y_predict)\n",
    "    }\n",
    "    return metrics_estimated"
   ]
  },
  {
   "cell_type": "markdown",
   "id": "4abdd8d5",
   "metadata": {},
   "source": [
    "- Preprocessing dataset"
   ]
  },
  {
   "cell_type": "code",
   "execution_count": 137,
   "id": "2263cdd9",
   "metadata": {},
   "outputs": [
    {
     "data": {
      "text/html": [
       "<div>\n",
       "<style scoped>\n",
       "    .dataframe tbody tr th:only-of-type {\n",
       "        vertical-align: middle;\n",
       "    }\n",
       "\n",
       "    .dataframe tbody tr th {\n",
       "        vertical-align: top;\n",
       "    }\n",
       "\n",
       "    .dataframe thead th {\n",
       "        text-align: right;\n",
       "    }\n",
       "</style>\n",
       "<table border=\"1\" class=\"dataframe\">\n",
       "  <thead>\n",
       "    <tr style=\"text-align: right;\">\n",
       "      <th></th>\n",
       "      <th>ID</th>\n",
       "      <th>Gender</th>\n",
       "      <th>IgA_Average_Morning</th>\n",
       "      <th>IgA_Average_Afternoon</th>\n",
       "      <th>Average_Difference</th>\n",
       "      <th>Attachment</th>\n",
       "    </tr>\n",
       "  </thead>\n",
       "  <tbody>\n",
       "    <tr>\n",
       "      <th>0</th>\n",
       "      <td>1</td>\n",
       "      <td>Male</td>\n",
       "      <td>21.765240</td>\n",
       "      <td>28.368055</td>\n",
       "      <td>6.602815</td>\n",
       "      <td>Insecure</td>\n",
       "    </tr>\n",
       "    <tr>\n",
       "      <th>1</th>\n",
       "      <td>4</td>\n",
       "      <td>Male</td>\n",
       "      <td>28.473065</td>\n",
       "      <td>50.881961</td>\n",
       "      <td>22.408896</td>\n",
       "      <td>Secure</td>\n",
       "    </tr>\n",
       "    <tr>\n",
       "      <th>2</th>\n",
       "      <td>5</td>\n",
       "      <td>Female</td>\n",
       "      <td>161.424693</td>\n",
       "      <td>46.867951</td>\n",
       "      <td>-114.556742</td>\n",
       "      <td>Secure</td>\n",
       "    </tr>\n",
       "    <tr>\n",
       "      <th>3</th>\n",
       "      <td>7</td>\n",
       "      <td>Female</td>\n",
       "      <td>24.173487</td>\n",
       "      <td>35.942378</td>\n",
       "      <td>14.343241</td>\n",
       "      <td>Insecure</td>\n",
       "    </tr>\n",
       "    <tr>\n",
       "      <th>4</th>\n",
       "      <td>11</td>\n",
       "      <td>Male</td>\n",
       "      <td>78.013279</td>\n",
       "      <td>382.715268</td>\n",
       "      <td>345.590046</td>\n",
       "      <td>Unknown</td>\n",
       "    </tr>\n",
       "  </tbody>\n",
       "</table>\n",
       "</div>"
      ],
      "text/plain": [
       "   ID  Gender  IgA_Average_Morning  IgA_Average_Afternoon  Average_Difference  \\\n",
       "0   1    Male            21.765240              28.368055            6.602815   \n",
       "1   4    Male            28.473065              50.881961           22.408896   \n",
       "2   5  Female           161.424693              46.867951         -114.556742   \n",
       "3   7  Female            24.173487              35.942378           14.343241   \n",
       "4  11    Male            78.013279             382.715268          345.590046   \n",
       "\n",
       "  Attachment  \n",
       "0   Insecure  \n",
       "1     Secure  \n",
       "2     Secure  \n",
       "3   Insecure  \n",
       "4    Unknown  "
      ]
     },
     "execution_count": 137,
     "metadata": {},
     "output_type": "execute_result"
    }
   ],
   "source": [
    "df_data = pd.read_csv(\"../processed_data/1_processed_data_IgA.csv\")\n",
    "df_data.head(5)"
   ]
  },
  {
   "cell_type": "code",
   "execution_count": 138,
   "id": "25263676",
   "metadata": {},
   "outputs": [
    {
     "data": {
      "text/plain": [
       "Index(['ID', 'Gender', 'IgA_Average_Morning', 'IgA_Average_Afternoon',\n",
       "       'Average_Difference', 'Attachment'],\n",
       "      dtype='object')"
      ]
     },
     "execution_count": 138,
     "metadata": {},
     "output_type": "execute_result"
    }
   ],
   "source": [
    "df_data.columns"
   ]
  },
  {
   "cell_type": "code",
   "execution_count": 139,
   "id": "fa5660b1",
   "metadata": {},
   "outputs": [
    {
     "name": "stdout",
     "output_type": "stream",
     "text": [
      "(35, 5)\n"
     ]
    },
    {
     "data": {
      "text/html": [
       "<div>\n",
       "<style scoped>\n",
       "    .dataframe tbody tr th:only-of-type {\n",
       "        vertical-align: middle;\n",
       "    }\n",
       "\n",
       "    .dataframe tbody tr th {\n",
       "        vertical-align: top;\n",
       "    }\n",
       "\n",
       "    .dataframe thead th {\n",
       "        text-align: right;\n",
       "    }\n",
       "</style>\n",
       "<table border=\"1\" class=\"dataframe\">\n",
       "  <thead>\n",
       "    <tr style=\"text-align: right;\">\n",
       "      <th></th>\n",
       "      <th>Gender</th>\n",
       "      <th>IgA_Average_Morning</th>\n",
       "      <th>IgA_Average_Afternoon</th>\n",
       "      <th>Average_Difference</th>\n",
       "      <th>Attachment</th>\n",
       "    </tr>\n",
       "  </thead>\n",
       "  <tbody>\n",
       "    <tr>\n",
       "      <th>0</th>\n",
       "      <td>Male</td>\n",
       "      <td>21.765240</td>\n",
       "      <td>28.368055</td>\n",
       "      <td>6.602815</td>\n",
       "      <td>1</td>\n",
       "    </tr>\n",
       "    <tr>\n",
       "      <th>1</th>\n",
       "      <td>Male</td>\n",
       "      <td>28.473065</td>\n",
       "      <td>50.881961</td>\n",
       "      <td>22.408896</td>\n",
       "      <td>0</td>\n",
       "    </tr>\n",
       "    <tr>\n",
       "      <th>2</th>\n",
       "      <td>Female</td>\n",
       "      <td>161.424693</td>\n",
       "      <td>46.867951</td>\n",
       "      <td>-114.556742</td>\n",
       "      <td>0</td>\n",
       "    </tr>\n",
       "    <tr>\n",
       "      <th>3</th>\n",
       "      <td>Female</td>\n",
       "      <td>24.173487</td>\n",
       "      <td>35.942378</td>\n",
       "      <td>14.343241</td>\n",
       "      <td>1</td>\n",
       "    </tr>\n",
       "    <tr>\n",
       "      <th>4</th>\n",
       "      <td>Male</td>\n",
       "      <td>78.013279</td>\n",
       "      <td>382.715268</td>\n",
       "      <td>345.590046</td>\n",
       "      <td>2</td>\n",
       "    </tr>\n",
       "  </tbody>\n",
       "</table>\n",
       "</div>"
      ],
      "text/plain": [
       "   Gender  IgA_Average_Morning  IgA_Average_Afternoon  Average_Difference  \\\n",
       "0    Male            21.765240              28.368055            6.602815   \n",
       "1    Male            28.473065              50.881961           22.408896   \n",
       "2  Female           161.424693              46.867951         -114.556742   \n",
       "3  Female            24.173487              35.942378           14.343241   \n",
       "4    Male            78.013279             382.715268          345.590046   \n",
       "\n",
       "   Attachment  \n",
       "0           1  \n",
       "1           0  \n",
       "2           0  \n",
       "3           1  \n",
       "4           2  "
      ]
     },
     "execution_count": 139,
     "metadata": {},
     "output_type": "execute_result"
    }
   ],
   "source": [
    "df_data = df_data[['Gender', 'IgA_Average_Morning', 'IgA_Average_Afternoon',\n",
    "       'Average_Difference', 'Attachment']]\n",
    "df_data = df_data.dropna()\n",
    "df_data[\"Attachment\"] = df_data[\"Attachment\"].replace({\"Insecure\": 1, \"Secure\":0, \"Unknown\":2})\n",
    "print(df_data.shape)\n",
    "df_data.head(5)"
   ]
  },
  {
   "cell_type": "code",
   "execution_count": 140,
   "id": "9edc4f1c",
   "metadata": {},
   "outputs": [],
   "source": [
    "df_data[\"Gender\"] = df_data[\"Gender\"].replace({\"Female\":0, \"Male\": 1})"
   ]
  },
  {
   "cell_type": "code",
   "execution_count": 141,
   "id": "d9ebc249",
   "metadata": {},
   "outputs": [
    {
     "data": {
      "text/html": [
       "<div>\n",
       "<style scoped>\n",
       "    .dataframe tbody tr th:only-of-type {\n",
       "        vertical-align: middle;\n",
       "    }\n",
       "\n",
       "    .dataframe tbody tr th {\n",
       "        vertical-align: top;\n",
       "    }\n",
       "\n",
       "    .dataframe thead th {\n",
       "        text-align: right;\n",
       "    }\n",
       "</style>\n",
       "<table border=\"1\" class=\"dataframe\">\n",
       "  <thead>\n",
       "    <tr style=\"text-align: right;\">\n",
       "      <th></th>\n",
       "      <th>Gender</th>\n",
       "      <th>IgA_Average_Morning</th>\n",
       "      <th>IgA_Average_Afternoon</th>\n",
       "      <th>Average_Difference</th>\n",
       "    </tr>\n",
       "  </thead>\n",
       "  <tbody>\n",
       "    <tr>\n",
       "      <th>4</th>\n",
       "      <td>1</td>\n",
       "      <td>78.013279</td>\n",
       "      <td>382.715268</td>\n",
       "      <td>345.590046</td>\n",
       "    </tr>\n",
       "    <tr>\n",
       "      <th>7</th>\n",
       "      <td>0</td>\n",
       "      <td>19.116347</td>\n",
       "      <td>146.183135</td>\n",
       "      <td>127.066789</td>\n",
       "    </tr>\n",
       "    <tr>\n",
       "      <th>10</th>\n",
       "      <td>0</td>\n",
       "      <td>57.810302</td>\n",
       "      <td>24.501335</td>\n",
       "      <td>-33.308967</td>\n",
       "    </tr>\n",
       "    <tr>\n",
       "      <th>21</th>\n",
       "      <td>1</td>\n",
       "      <td>18.906715</td>\n",
       "      <td>23.798305</td>\n",
       "      <td>4.891590</td>\n",
       "    </tr>\n",
       "    <tr>\n",
       "      <th>28</th>\n",
       "      <td>0</td>\n",
       "      <td>20.707741</td>\n",
       "      <td>18.293268</td>\n",
       "      <td>-2.414473</td>\n",
       "    </tr>\n",
       "    <tr>\n",
       "      <th>29</th>\n",
       "      <td>1</td>\n",
       "      <td>101.639013</td>\n",
       "      <td>63.966516</td>\n",
       "      <td>-20.385801</td>\n",
       "    </tr>\n",
       "    <tr>\n",
       "      <th>30</th>\n",
       "      <td>1</td>\n",
       "      <td>23.046024</td>\n",
       "      <td>73.899634</td>\n",
       "      <td>50.853611</td>\n",
       "    </tr>\n",
       "    <tr>\n",
       "      <th>34</th>\n",
       "      <td>0</td>\n",
       "      <td>120.080399</td>\n",
       "      <td>105.888018</td>\n",
       "      <td>-14.192381</td>\n",
       "    </tr>\n",
       "  </tbody>\n",
       "</table>\n",
       "</div>"
      ],
      "text/plain": [
       "    Gender  IgA_Average_Morning  IgA_Average_Afternoon  Average_Difference\n",
       "4        1            78.013279             382.715268          345.590046\n",
       "7        0            19.116347             146.183135          127.066789\n",
       "10       0            57.810302              24.501335          -33.308967\n",
       "21       1            18.906715              23.798305            4.891590\n",
       "28       0            20.707741              18.293268           -2.414473\n",
       "29       1           101.639013              63.966516          -20.385801\n",
       "30       1            23.046024              73.899634           50.853611\n",
       "34       0           120.080399             105.888018          -14.192381"
      ]
     },
     "execution_count": 141,
     "metadata": {},
     "output_type": "execute_result"
    }
   ],
   "source": [
    "df_unknown = df_data[df_data[\"Attachment\"] == 2]\n",
    "df_unknown = df_unknown.drop(columns=['Attachment'])\n",
    "df_unknown"
   ]
  },
  {
   "cell_type": "code",
   "execution_count": 142,
   "id": "c6068789",
   "metadata": {},
   "outputs": [],
   "source": [
    "df_data = df_data[df_data[\"Attachment\"] != 2]\n",
    "response = df_data[\"Attachment\"].values\n",
    "df_data = df_data.drop(columns=['Attachment'])"
   ]
  },
  {
   "cell_type": "markdown",
   "id": "906f95a5",
   "metadata": {},
   "source": [
    "- Apply standardization process"
   ]
  },
  {
   "cell_type": "code",
   "execution_count": 143,
   "id": "933b0f64",
   "metadata": {},
   "outputs": [
    {
     "data": {
      "text/html": [
       "<div>\n",
       "<style scoped>\n",
       "    .dataframe tbody tr th:only-of-type {\n",
       "        vertical-align: middle;\n",
       "    }\n",
       "\n",
       "    .dataframe tbody tr th {\n",
       "        vertical-align: top;\n",
       "    }\n",
       "\n",
       "    .dataframe thead th {\n",
       "        text-align: right;\n",
       "    }\n",
       "</style>\n",
       "<table border=\"1\" class=\"dataframe\">\n",
       "  <thead>\n",
       "    <tr style=\"text-align: right;\">\n",
       "      <th></th>\n",
       "      <th>Gender</th>\n",
       "      <th>IgA_Average_Morning</th>\n",
       "      <th>IgA_Average_Afternoon</th>\n",
       "      <th>Average_Difference</th>\n",
       "      <th>Attachment</th>\n",
       "    </tr>\n",
       "  </thead>\n",
       "  <tbody>\n",
       "    <tr>\n",
       "      <th>0</th>\n",
       "      <td>1.0</td>\n",
       "      <td>0.039765</td>\n",
       "      <td>0.129162</td>\n",
       "      <td>0.666878</td>\n",
       "      <td>1</td>\n",
       "    </tr>\n",
       "    <tr>\n",
       "      <th>1</th>\n",
       "      <td>1.0</td>\n",
       "      <td>0.085885</td>\n",
       "      <td>0.411852</td>\n",
       "      <td>0.753876</td>\n",
       "      <td>0</td>\n",
       "    </tr>\n",
       "    <tr>\n",
       "      <th>2</th>\n",
       "      <td>0.0</td>\n",
       "      <td>1.000000</td>\n",
       "      <td>0.361451</td>\n",
       "      <td>0.000000</td>\n",
       "      <td>0</td>\n",
       "    </tr>\n",
       "    <tr>\n",
       "      <th>3</th>\n",
       "      <td>0.0</td>\n",
       "      <td>0.056323</td>\n",
       "      <td>0.224267</td>\n",
       "      <td>0.709482</td>\n",
       "      <td>1</td>\n",
       "    </tr>\n",
       "    <tr>\n",
       "      <th>4</th>\n",
       "      <td>0.0</td>\n",
       "      <td>0.093323</td>\n",
       "      <td>0.338978</td>\n",
       "      <td>0.715977</td>\n",
       "      <td>0</td>\n",
       "    </tr>\n",
       "  </tbody>\n",
       "</table>\n",
       "</div>"
      ],
      "text/plain": [
       "   Gender  IgA_Average_Morning  IgA_Average_Afternoon  Average_Difference  \\\n",
       "0     1.0             0.039765               0.129162            0.666878   \n",
       "1     1.0             0.085885               0.411852            0.753876   \n",
       "2     0.0             1.000000               0.361451            0.000000   \n",
       "3     0.0             0.056323               0.224267            0.709482   \n",
       "4     0.0             0.093323               0.338978            0.715977   \n",
       "\n",
       "   Attachment  \n",
       "0           1  \n",
       "1           0  \n",
       "2           0  \n",
       "3           1  \n",
       "4           0  "
      ]
     },
     "execution_count": 143,
     "metadata": {},
     "output_type": "execute_result"
    }
   ],
   "source": [
    "scaler_instance = MinMaxScaler()\n",
    "scaler_instance.fit(df_data.values)\n",
    "scaled_data = scaler_instance.transform(df_data.values)\n",
    "\n",
    "df_prepared = pd.DataFrame(data=scaled_data, columns=df_data.columns)\n",
    "df_prepared[\"Attachment\"] = response\n",
    "df_prepared.head(5)"
   ]
  },
  {
   "cell_type": "markdown",
   "id": "1bb039cd",
   "metadata": {},
   "source": [
    "- Using SMOTE for data augmentation"
   ]
  },
  {
   "cell_type": "code",
   "execution_count": 144,
   "id": "07492ba8",
   "metadata": {},
   "outputs": [
    {
     "name": "stdout",
     "output_type": "stream",
     "text": [
      "(9,) (18,)\n"
     ]
    }
   ],
   "source": [
    "X = df_prepared.drop(columns=['Attachment'])\n",
    "y = df_prepared['Attachment']\n",
    "\n",
    "X_train, X_test, y_train, y_test = train_test_split(\n",
    "    X, y, test_size=0.3, stratify=y, random_state=42\n",
    ")\n",
    "print(y_test.shape, y_train.shape)"
   ]
  },
  {
   "cell_type": "markdown",
   "id": "8f1f8fc5",
   "metadata": {},
   "source": [
    "- 300 per class will be generated"
   ]
  },
  {
   "cell_type": "code",
   "execution_count": 145,
   "id": "c7d4bed7",
   "metadata": {},
   "outputs": [],
   "source": [
    "smote = SMOTE(\n",
    "    random_state=42,\n",
    "    sampling_strategy={1: 100, 0: 100})\n",
    "\n",
    "X_train_resampled, y_train_resampled = smote.fit_resample(X_train, y_train)\n",
    "X_train_resampled[\"Gender\"] = X_train_resampled[\"Gender\"].apply(lambda x: 1 if x > 0.5 else 0)"
   ]
  },
  {
   "cell_type": "code",
   "execution_count": 146,
   "id": "67856ca3",
   "metadata": {},
   "outputs": [],
   "source": [
    "X_train, X_val, y_train, y_val = train_test_split(\n",
    "    X_train_resampled, y_train_resampled, test_size=0.3, stratify=y_train_resampled, random_state=42\n",
    ")"
   ]
  },
  {
   "cell_type": "code",
   "execution_count": 147,
   "id": "41b1587b",
   "metadata": {},
   "outputs": [
    {
     "data": {
      "text/html": [
       "<div>\n",
       "<style scoped>\n",
       "    .dataframe tbody tr th:only-of-type {\n",
       "        vertical-align: middle;\n",
       "    }\n",
       "\n",
       "    .dataframe tbody tr th {\n",
       "        vertical-align: top;\n",
       "    }\n",
       "\n",
       "    .dataframe thead th {\n",
       "        text-align: right;\n",
       "    }\n",
       "</style>\n",
       "<table border=\"1\" class=\"dataframe\">\n",
       "  <thead>\n",
       "    <tr style=\"text-align: right;\">\n",
       "      <th></th>\n",
       "      <th>Gender</th>\n",
       "      <th>IgA_Average_Morning</th>\n",
       "      <th>IgA_Average_Afternoon</th>\n",
       "      <th>Average_Difference</th>\n",
       "    </tr>\n",
       "  </thead>\n",
       "  <tbody>\n",
       "    <tr>\n",
       "      <th>0</th>\n",
       "      <td>0</td>\n",
       "      <td>1.000000</td>\n",
       "      <td>0.361451</td>\n",
       "      <td>0.000000</td>\n",
       "    </tr>\n",
       "    <tr>\n",
       "      <th>148</th>\n",
       "      <td>0</td>\n",
       "      <td>0.045148</td>\n",
       "      <td>0.344042</td>\n",
       "      <td>0.756763</td>\n",
       "    </tr>\n",
       "    <tr>\n",
       "      <th>141</th>\n",
       "      <td>0</td>\n",
       "      <td>0.074868</td>\n",
       "      <td>0.090344</td>\n",
       "      <td>0.621761</td>\n",
       "    </tr>\n",
       "    <tr>\n",
       "      <th>87</th>\n",
       "      <td>1</td>\n",
       "      <td>0.028696</td>\n",
       "      <td>0.163764</td>\n",
       "      <td>0.690907</td>\n",
       "    </tr>\n",
       "    <tr>\n",
       "      <th>188</th>\n",
       "      <td>0</td>\n",
       "      <td>0.085318</td>\n",
       "      <td>0.102486</td>\n",
       "      <td>0.618717</td>\n",
       "    </tr>\n",
       "  </tbody>\n",
       "</table>\n",
       "</div>"
      ],
      "text/plain": [
       "     Gender  IgA_Average_Morning  IgA_Average_Afternoon  Average_Difference\n",
       "0         0             1.000000               0.361451            0.000000\n",
       "148       0             0.045148               0.344042            0.756763\n",
       "141       0             0.074868               0.090344            0.621761\n",
       "87        1             0.028696               0.163764            0.690907\n",
       "188       0             0.085318               0.102486            0.618717"
      ]
     },
     "execution_count": 147,
     "metadata": {},
     "output_type": "execute_result"
    }
   ],
   "source": [
    "X_train.head()"
   ]
  },
  {
   "cell_type": "code",
   "execution_count": 148,
   "id": "3c5a54d2",
   "metadata": {},
   "outputs": [
    {
     "data": {
      "text/html": [
       "<div>\n",
       "<style scoped>\n",
       "    .dataframe tbody tr th:only-of-type {\n",
       "        vertical-align: middle;\n",
       "    }\n",
       "\n",
       "    .dataframe tbody tr th {\n",
       "        vertical-align: top;\n",
       "    }\n",
       "\n",
       "    .dataframe thead th {\n",
       "        text-align: right;\n",
       "    }\n",
       "</style>\n",
       "<table border=\"1\" class=\"dataframe\">\n",
       "  <thead>\n",
       "    <tr style=\"text-align: right;\">\n",
       "      <th></th>\n",
       "      <th>Gender</th>\n",
       "      <th>IgA_Average_Morning</th>\n",
       "      <th>IgA_Average_Afternoon</th>\n",
       "      <th>Average_Difference</th>\n",
       "    </tr>\n",
       "  </thead>\n",
       "  <tbody>\n",
       "    <tr>\n",
       "      <th>107</th>\n",
       "      <td>0</td>\n",
       "      <td>0.096544</td>\n",
       "      <td>0.095912</td>\n",
       "      <td>0.606849</td>\n",
       "    </tr>\n",
       "    <tr>\n",
       "      <th>20</th>\n",
       "      <td>0</td>\n",
       "      <td>0.084569</td>\n",
       "      <td>0.195440</td>\n",
       "      <td>0.660064</td>\n",
       "    </tr>\n",
       "    <tr>\n",
       "      <th>106</th>\n",
       "      <td>0</td>\n",
       "      <td>0.051960</td>\n",
       "      <td>0.080590</td>\n",
       "      <td>0.635823</td>\n",
       "    </tr>\n",
       "    <tr>\n",
       "      <th>136</th>\n",
       "      <td>1</td>\n",
       "      <td>0.066843</td>\n",
       "      <td>0.037003</td>\n",
       "      <td>0.604802</td>\n",
       "    </tr>\n",
       "    <tr>\n",
       "      <th>133</th>\n",
       "      <td>0</td>\n",
       "      <td>0.048067</td>\n",
       "      <td>0.065360</td>\n",
       "      <td>0.632264</td>\n",
       "    </tr>\n",
       "  </tbody>\n",
       "</table>\n",
       "</div>"
      ],
      "text/plain": [
       "     Gender  IgA_Average_Morning  IgA_Average_Afternoon  Average_Difference\n",
       "107       0             0.096544               0.095912            0.606849\n",
       "20        0             0.084569               0.195440            0.660064\n",
       "106       0             0.051960               0.080590            0.635823\n",
       "136       1             0.066843               0.037003            0.604802\n",
       "133       0             0.048067               0.065360            0.632264"
      ]
     },
     "execution_count": 148,
     "metadata": {},
     "output_type": "execute_result"
    }
   ],
   "source": [
    "X_val.head()"
   ]
  },
  {
   "cell_type": "markdown",
   "id": "89af72b3",
   "metadata": {},
   "source": [
    "- Training models"
   ]
  },
  {
   "cell_type": "code",
   "execution_count": 149,
   "id": "7a798826",
   "metadata": {},
   "outputs": [],
   "source": [
    "lr_model = LogisticRegression(random_state=42).fit(X=X_train_resampled, y=y_train_resampled)\n",
    "knn_model = KNeighborsClassifier().fit(X=X_train_resampled, y=y_train_resampled)\n",
    "dt_model = DecisionTreeClassifier(random_state=42).fit(X=X_train_resampled, y=y_train_resampled)\n",
    "rf_model = RandomForestClassifier(random_state=42).fit(X=X_train_resampled, y=y_train_resampled)"
   ]
  },
  {
   "cell_type": "markdown",
   "id": "17a47dd9",
   "metadata": {},
   "source": [
    "- Make predictions and get metrics"
   ]
  },
  {
   "cell_type": "code",
   "execution_count": 150,
   "id": "590f1cb5",
   "metadata": {},
   "outputs": [],
   "source": [
    "lr_predictions_val = lr_model.predict(X=X_val)\n",
    "lr_predictions_test = lr_model.predict(X=X_test)\n",
    "\n",
    "lr_performances_val = get_metrics(y_true=y_val, y_predict=lr_predictions_val, method=\"LogisticRegression\")\n",
    "lr_performances_test = get_metrics(y_true=y_test, y_predict=lr_predictions_test, method=\"LogisticRegression\")\n"
   ]
  },
  {
   "cell_type": "code",
   "execution_count": 151,
   "id": "8ac653bb",
   "metadata": {},
   "outputs": [],
   "source": [
    "knn_predictions_val = knn_model.predict(X=X_val)\n",
    "knn_predictions_test = knn_model.predict(X=X_test)\n",
    "\n",
    "knn_performances_val = get_metrics(y_true=y_val, y_predict=knn_predictions_val, method=\"KNN\")\n",
    "knn_performances_test = get_metrics(y_true=y_test, y_predict=knn_predictions_test, method=\"KNN\")"
   ]
  },
  {
   "cell_type": "code",
   "execution_count": 152,
   "id": "c26b2490",
   "metadata": {},
   "outputs": [],
   "source": [
    "dt_predictions_val = dt_model.predict(X=X_val)\n",
    "dt_predictions_test = dt_model.predict(X=X_test)\n",
    "\n",
    "dt_performances_val = get_metrics(y_true=y_val, y_predict=dt_predictions_val, method=\"Decision Tree\")\n",
    "dt_performances_test = get_metrics(y_true=y_test, y_predict=dt_predictions_test, method=\"Decision Tree\")"
   ]
  },
  {
   "cell_type": "code",
   "execution_count": 153,
   "id": "e6a89f80",
   "metadata": {},
   "outputs": [],
   "source": [
    "rf_predictions_val = rf_model.predict(X=X_val)\n",
    "rf_predictions_test = rf_model.predict(X=X_test)\n",
    "\n",
    "rf_performances_val = get_metrics(y_true=y_val, y_predict=rf_predictions_val, method=\"Random Forest\")\n",
    "rf_performances_test = get_metrics(y_true=y_test, y_predict=rf_predictions_test, method=\"Random Forest\")"
   ]
  },
  {
   "cell_type": "markdown",
   "id": "2ee51111",
   "metadata": {},
   "source": [
    "- Making summary of performances"
   ]
  },
  {
   "cell_type": "code",
   "execution_count": 154,
   "id": "94c12b07",
   "metadata": {},
   "outputs": [
    {
     "data": {
      "text/html": [
       "<div>\n",
       "<style scoped>\n",
       "    .dataframe tbody tr th:only-of-type {\n",
       "        vertical-align: middle;\n",
       "    }\n",
       "\n",
       "    .dataframe tbody tr th {\n",
       "        vertical-align: top;\n",
       "    }\n",
       "\n",
       "    .dataframe thead th {\n",
       "        text-align: right;\n",
       "    }\n",
       "</style>\n",
       "<table border=\"1\" class=\"dataframe\">\n",
       "  <thead>\n",
       "    <tr style=\"text-align: right;\">\n",
       "      <th></th>\n",
       "      <th>Method</th>\n",
       "      <th>Accuracy</th>\n",
       "      <th>Precision</th>\n",
       "      <th>Recall</th>\n",
       "      <th>F1-score</th>\n",
       "      <th>MCC</th>\n",
       "    </tr>\n",
       "  </thead>\n",
       "  <tbody>\n",
       "    <tr>\n",
       "      <th>0</th>\n",
       "      <td>LogisticRegression</td>\n",
       "      <td>0.666667</td>\n",
       "      <td>0.631579</td>\n",
       "      <td>0.800000</td>\n",
       "      <td>0.705882</td>\n",
       "      <td>0.345857</td>\n",
       "    </tr>\n",
       "    <tr>\n",
       "      <th>1</th>\n",
       "      <td>KNN</td>\n",
       "      <td>0.966667</td>\n",
       "      <td>0.966667</td>\n",
       "      <td>0.966667</td>\n",
       "      <td>0.966667</td>\n",
       "      <td>0.933333</td>\n",
       "    </tr>\n",
       "    <tr>\n",
       "      <th>2</th>\n",
       "      <td>Decision Tree</td>\n",
       "      <td>1.000000</td>\n",
       "      <td>1.000000</td>\n",
       "      <td>1.000000</td>\n",
       "      <td>1.000000</td>\n",
       "      <td>1.000000</td>\n",
       "    </tr>\n",
       "    <tr>\n",
       "      <th>3</th>\n",
       "      <td>Random Forest</td>\n",
       "      <td>1.000000</td>\n",
       "      <td>1.000000</td>\n",
       "      <td>1.000000</td>\n",
       "      <td>1.000000</td>\n",
       "      <td>1.000000</td>\n",
       "    </tr>\n",
       "  </tbody>\n",
       "</table>\n",
       "</div>"
      ],
      "text/plain": [
       "               Method  Accuracy  Precision    Recall  F1-score       MCC\n",
       "0  LogisticRegression  0.666667   0.631579  0.800000  0.705882  0.345857\n",
       "1                 KNN  0.966667   0.966667  0.966667  0.966667  0.933333\n",
       "2       Decision Tree  1.000000   1.000000  1.000000  1.000000  1.000000\n",
       "3       Random Forest  1.000000   1.000000  1.000000  1.000000  1.000000"
      ]
     },
     "execution_count": 154,
     "metadata": {},
     "output_type": "execute_result"
    }
   ],
   "source": [
    "data_performances_val = [\n",
    "    lr_performances_val,\n",
    "    knn_performances_val,\n",
    "    dt_performances_val,\n",
    "    rf_performances_val\n",
    "]\n",
    "\n",
    "df_perfomances_val = pd.DataFrame(data_performances_val)\n",
    "df_perfomances_val"
   ]
  },
  {
   "cell_type": "code",
   "execution_count": 155,
   "id": "3b1d6bf3",
   "metadata": {},
   "outputs": [
    {
     "data": {
      "text/html": [
       "<div>\n",
       "<style scoped>\n",
       "    .dataframe tbody tr th:only-of-type {\n",
       "        vertical-align: middle;\n",
       "    }\n",
       "\n",
       "    .dataframe tbody tr th {\n",
       "        vertical-align: top;\n",
       "    }\n",
       "\n",
       "    .dataframe thead th {\n",
       "        text-align: right;\n",
       "    }\n",
       "</style>\n",
       "<table border=\"1\" class=\"dataframe\">\n",
       "  <thead>\n",
       "    <tr style=\"text-align: right;\">\n",
       "      <th></th>\n",
       "      <th>Method</th>\n",
       "      <th>Accuracy</th>\n",
       "      <th>Precision</th>\n",
       "      <th>Recall</th>\n",
       "      <th>F1-score</th>\n",
       "      <th>MCC</th>\n",
       "    </tr>\n",
       "  </thead>\n",
       "  <tbody>\n",
       "    <tr>\n",
       "      <th>0</th>\n",
       "      <td>LogisticRegression</td>\n",
       "      <td>0.666667</td>\n",
       "      <td>0.500000</td>\n",
       "      <td>0.666667</td>\n",
       "      <td>0.571429</td>\n",
       "      <td>0.316228</td>\n",
       "    </tr>\n",
       "    <tr>\n",
       "      <th>1</th>\n",
       "      <td>KNN</td>\n",
       "      <td>0.333333</td>\n",
       "      <td>0.000000</td>\n",
       "      <td>0.000000</td>\n",
       "      <td>0.000000</td>\n",
       "      <td>-0.500000</td>\n",
       "    </tr>\n",
       "    <tr>\n",
       "      <th>2</th>\n",
       "      <td>Decision Tree</td>\n",
       "      <td>0.777778</td>\n",
       "      <td>0.666667</td>\n",
       "      <td>0.666667</td>\n",
       "      <td>0.666667</td>\n",
       "      <td>0.500000</td>\n",
       "    </tr>\n",
       "    <tr>\n",
       "      <th>3</th>\n",
       "      <td>Random Forest</td>\n",
       "      <td>0.777778</td>\n",
       "      <td>0.666667</td>\n",
       "      <td>0.666667</td>\n",
       "      <td>0.666667</td>\n",
       "      <td>0.500000</td>\n",
       "    </tr>\n",
       "  </tbody>\n",
       "</table>\n",
       "</div>"
      ],
      "text/plain": [
       "               Method  Accuracy  Precision    Recall  F1-score       MCC\n",
       "0  LogisticRegression  0.666667   0.500000  0.666667  0.571429  0.316228\n",
       "1                 KNN  0.333333   0.000000  0.000000  0.000000 -0.500000\n",
       "2       Decision Tree  0.777778   0.666667  0.666667  0.666667  0.500000\n",
       "3       Random Forest  0.777778   0.666667  0.666667  0.666667  0.500000"
      ]
     },
     "execution_count": 155,
     "metadata": {},
     "output_type": "execute_result"
    }
   ],
   "source": [
    "data_performances_test = [\n",
    "    lr_performances_test,\n",
    "    knn_performances_test,\n",
    "    dt_performances_test,\n",
    "    rf_performances_test\n",
    "]\n",
    "\n",
    "df_perfomances_test = pd.DataFrame(data_performances_test)\n",
    "df_perfomances_test"
   ]
  },
  {
   "cell_type": "markdown",
   "id": "f8041fc8",
   "metadata": {},
   "source": [
    "- Making analyzis based on classification model. In this case, we only will select the Decision tree and the Random Forest models"
   ]
  },
  {
   "cell_type": "code",
   "execution_count": 156,
   "id": "7f4eb1a6",
   "metadata": {},
   "outputs": [
    {
     "data": {
      "image/png": "[encoded data removed]",
      "text/plain": [
       "<Figure size 2000x1000 with 1 Axes>"
      ]
     },
     "metadata": {},
     "output_type": "display_data"
    }
   ],
   "source": [
    "plt.figure(figsize=(20, 10))\n",
    "plot_tree(\n",
    "    dt_model,\n",
    "    feature_names=X.columns,\n",
    "    class_names=[str(c) for c in dt_model.classes_],\n",
    "    filled=True,\n",
    "    rounded=True,\n",
    "    max_depth=4,\n",
    "    fontsize=10\n",
    ")\n",
    "\n",
    "plt.show()"
   ]
  },
  {
   "cell_type": "markdown",
   "id": "64d09766",
   "metadata": {},
   "source": [
    "- Feature relevance Random Forest"
   ]
  },
  {
   "cell_type": "code",
   "execution_count": 157,
   "id": "58edea35",
   "metadata": {},
   "outputs": [
    {
     "data": {
      "image/png": "[encoded data removed]",
      "text/plain": [
       "<Figure size 800x500 with 1 Axes>"
      ]
     },
     "metadata": {},
     "output_type": "display_data"
    }
   ],
   "source": [
    "importances = rf_model.feature_importances_\n",
    "feature_names = X.columns\n",
    "indices = np.argsort(importances)[::-1]\n",
    "\n",
    "plt.figure(figsize=(8, 5))\n",
    "plt.bar(range(len(importances)), importances[indices], align=\"center\")\n",
    "plt.xticks(range(len(importances)), feature_names[indices], rotation=45, ha='right')\n",
    "plt.ylabel(\"Relative Importance\")\n",
    "plt.tight_layout()\n",
    "plt.show()"
   ]
  },
  {
   "cell_type": "markdown",
   "id": "68cba7c5",
   "metadata": {},
   "source": [
    "- Using the model to classify the unknown examples"
   ]
  },
  {
   "cell_type": "code",
   "execution_count": 158,
   "id": "bcdf8cf3",
   "metadata": {},
   "outputs": [
    {
     "data": {
      "text/plain": [
       "array([0, 1, 0, 1, 1, 0, 1, 0])"
      ]
     },
     "execution_count": 158,
     "metadata": {},
     "output_type": "execute_result"
    }
   ],
   "source": [
    "rf_model.predict(scaler_instance.transform(df_unknown.values))"
   ]
  },
  {
   "cell_type": "code",
   "execution_count": 159,
   "id": "91c6a6cf",
   "metadata": {},
   "outputs": [
    {
     "data": {
      "text/plain": [
       "array([[0.65, 0.35],\n",
       "       [0.12, 0.88],\n",
       "       [1.  , 0.  ],\n",
       "       [0.14, 0.86],\n",
       "       [0.32, 0.68],\n",
       "       [0.9 , 0.1 ],\n",
       "       [0.  , 1.  ],\n",
       "       [0.92, 0.08]])"
      ]
     },
     "execution_count": 159,
     "metadata": {},
     "output_type": "execute_result"
    }
   ],
   "source": [
    "rf_model.predict_proba(scaler_instance.transform(df_unknown.values))"
   ]
  },
  {
   "cell_type": "code",
   "execution_count": 160,
   "id": "11830f90",
   "metadata": {},
   "outputs": [
    {
     "data": {
      "text/plain": [
       "array([0, 1, 0, 1, 1, 0, 1, 0])"
      ]
     },
     "execution_count": 160,
     "metadata": {},
     "output_type": "execute_result"
    }
   ],
   "source": [
    "dt_model.predict(scaler_instance.transform(df_unknown.values))"
   ]
  },
  {
   "cell_type": "code",
   "execution_count": 161,
   "id": "a229802d",
   "metadata": {},
   "outputs": [],
   "source": [
    "df_unknown['Attachment'] = rf_model.predict(scaler_instance.transform(df_unknown.values))"
   ]
  },
  {
   "cell_type": "markdown",
   "id": "a2a6c86d",
   "metadata": {},
   "source": [
    "- Making visualization of the predictions"
   ]
  },
  {
   "cell_type": "code",
   "execution_count": 162,
   "id": "e22c728c",
   "metadata": {},
   "outputs": [
    {
     "data": {
      "text/plain": [
       "Attachment\n",
       "0    4\n",
       "1    4\n",
       "Name: count, dtype: int64"
      ]
     },
     "execution_count": 162,
     "metadata": {},
     "output_type": "execute_result"
    }
   ],
   "source": [
    "df_unknown['Attachment'].value_counts()"
   ]
  },
  {
   "cell_type": "code",
   "execution_count": 163,
   "id": "c4369da1",
   "metadata": {},
   "outputs": [
    {
     "data": {
      "text/html": [
       "<div>\n",
       "<style scoped>\n",
       "    .dataframe tbody tr th:only-of-type {\n",
       "        vertical-align: middle;\n",
       "    }\n",
       "\n",
       "    .dataframe tbody tr th {\n",
       "        vertical-align: top;\n",
       "    }\n",
       "\n",
       "    .dataframe thead th {\n",
       "        text-align: right;\n",
       "    }\n",
       "</style>\n",
       "<table border=\"1\" class=\"dataframe\">\n",
       "  <thead>\n",
       "    <tr style=\"text-align: right;\">\n",
       "      <th></th>\n",
       "      <th>Gender</th>\n",
       "      <th>IgA_Average_Morning</th>\n",
       "      <th>IgA_Average_Afternoon</th>\n",
       "      <th>Average_Difference</th>\n",
       "      <th>Attachment</th>\n",
       "    </tr>\n",
       "  </thead>\n",
       "  <tbody>\n",
       "    <tr>\n",
       "      <th>4</th>\n",
       "      <td>1</td>\n",
       "      <td>78.013279</td>\n",
       "      <td>382.715268</td>\n",
       "      <td>345.590046</td>\n",
       "      <td>0</td>\n",
       "    </tr>\n",
       "    <tr>\n",
       "      <th>7</th>\n",
       "      <td>0</td>\n",
       "      <td>19.116347</td>\n",
       "      <td>146.183135</td>\n",
       "      <td>127.066789</td>\n",
       "      <td>1</td>\n",
       "    </tr>\n",
       "    <tr>\n",
       "      <th>10</th>\n",
       "      <td>0</td>\n",
       "      <td>57.810302</td>\n",
       "      <td>24.501335</td>\n",
       "      <td>-33.308967</td>\n",
       "      <td>0</td>\n",
       "    </tr>\n",
       "    <tr>\n",
       "      <th>21</th>\n",
       "      <td>1</td>\n",
       "      <td>18.906715</td>\n",
       "      <td>23.798305</td>\n",
       "      <td>4.891590</td>\n",
       "      <td>1</td>\n",
       "    </tr>\n",
       "    <tr>\n",
       "      <th>28</th>\n",
       "      <td>0</td>\n",
       "      <td>20.707741</td>\n",
       "      <td>18.293268</td>\n",
       "      <td>-2.414473</td>\n",
       "      <td>1</td>\n",
       "    </tr>\n",
       "  </tbody>\n",
       "</table>\n",
       "</div>"
      ],
      "text/plain": [
       "    Gender  IgA_Average_Morning  IgA_Average_Afternoon  Average_Difference  \\\n",
       "4        1            78.013279             382.715268          345.590046   \n",
       "7        0            19.116347             146.183135          127.066789   \n",
       "10       0            57.810302              24.501335          -33.308967   \n",
       "21       1            18.906715              23.798305            4.891590   \n",
       "28       0            20.707741              18.293268           -2.414473   \n",
       "\n",
       "    Attachment  \n",
       "4            0  \n",
       "7            1  \n",
       "10           0  \n",
       "21           1  \n",
       "28           1  "
      ]
     },
     "execution_count": 163,
     "metadata": {},
     "output_type": "execute_result"
    }
   ],
   "source": [
    "df_unknown.head()"
   ]
  },
  {
   "cell_type": "code",
   "execution_count": 164,
   "id": "8ee6f575",
   "metadata": {},
   "outputs": [
    {
     "data": {
      "text/plain": [
       "Attachment\n",
       "0    18\n",
       "1     9\n",
       "Name: count, dtype: int64"
      ]
     },
     "execution_count": 164,
     "metadata": {},
     "output_type": "execute_result"
    }
   ],
   "source": [
    "df_data['Attachment'] = response\n",
    "df_data['Attachment'].value_counts()"
   ]
  },
  {
   "cell_type": "code",
   "execution_count": 165,
   "id": "2cf85767",
   "metadata": {},
   "outputs": [],
   "source": [
    "df_data[\"Attachment\"] = df_data[\"Attachment\"].replace({1: \"Insecure\", 0: \"Secure\"})\n",
    "df_unknown['Attachment'] = df_unknown['Attachment'].replace({1: \"(P) Insecure\", 0: \"(P) Secure\"})"
   ]
  },
  {
   "cell_type": "code",
   "execution_count": 166,
   "id": "d7a9d6f2",
   "metadata": {},
   "outputs": [],
   "source": [
    "df_concat = pd.concat([df_data, df_unknown], axis=0)"
   ]
  },
  {
   "cell_type": "code",
   "execution_count": 167,
   "id": "bc35ac42",
   "metadata": {},
   "outputs": [
    {
     "data": {
      "text/plain": [
       "Attachment\n",
       "Secure          18\n",
       "Insecure         9\n",
       "(P) Secure       4\n",
       "(P) Insecure     4\n",
       "Name: count, dtype: int64"
      ]
     },
     "execution_count": 167,
     "metadata": {},
     "output_type": "execute_result"
    }
   ],
   "source": [
    "df_concat['Attachment'].value_counts()"
   ]
  },
  {
   "cell_type": "code",
   "execution_count": 168,
   "id": "544c65ad",
   "metadata": {},
   "outputs": [],
   "source": [
    "from sklearn.manifold import TSNE"
   ]
  },
  {
   "cell_type": "code",
   "execution_count": 170,
   "id": "397249a9",
   "metadata": {},
   "outputs": [
    {
     "data": {
      "text/plain": [
       "Index(['Gender', 'IgA_Average_Morning', 'IgA_Average_Afternoon',\n",
       "       'Average_Difference', 'Attachment'],\n",
       "      dtype='object')"
      ]
     },
     "execution_count": 170,
     "metadata": {},
     "output_type": "execute_result"
    }
   ],
   "source": [
    "df_concat.columns"
   ]
  },
  {
   "cell_type": "code",
   "execution_count": 171,
   "id": "aab8bcd2",
   "metadata": {},
   "outputs": [
    {
     "data": {
      "text/html": [
       "<div>\n",
       "<style scoped>\n",
       "    .dataframe tbody tr th:only-of-type {\n",
       "        vertical-align: middle;\n",
       "    }\n",
       "\n",
       "    .dataframe tbody tr th {\n",
       "        vertical-align: top;\n",
       "    }\n",
       "\n",
       "    .dataframe thead th {\n",
       "        text-align: right;\n",
       "    }\n",
       "</style>\n",
       "<table border=\"1\" class=\"dataframe\">\n",
       "  <thead>\n",
       "    <tr style=\"text-align: right;\">\n",
       "      <th></th>\n",
       "      <th>IgA_Average_Morning</th>\n",
       "      <th>IgA_Average_Afternoon</th>\n",
       "      <th>Average_Difference</th>\n",
       "    </tr>\n",
       "  </thead>\n",
       "  <tbody>\n",
       "    <tr>\n",
       "      <th>0</th>\n",
       "      <td>21.765240</td>\n",
       "      <td>28.368055</td>\n",
       "      <td>6.602815</td>\n",
       "    </tr>\n",
       "    <tr>\n",
       "      <th>1</th>\n",
       "      <td>28.473065</td>\n",
       "      <td>50.881961</td>\n",
       "      <td>22.408896</td>\n",
       "    </tr>\n",
       "    <tr>\n",
       "      <th>2</th>\n",
       "      <td>161.424693</td>\n",
       "      <td>46.867951</td>\n",
       "      <td>-114.556742</td>\n",
       "    </tr>\n",
       "    <tr>\n",
       "      <th>3</th>\n",
       "      <td>24.173487</td>\n",
       "      <td>35.942378</td>\n",
       "      <td>14.343241</td>\n",
       "    </tr>\n",
       "    <tr>\n",
       "      <th>5</th>\n",
       "      <td>29.554870</td>\n",
       "      <td>45.078186</td>\n",
       "      <td>15.523316</td>\n",
       "    </tr>\n",
       "  </tbody>\n",
       "</table>\n",
       "</div>"
      ],
      "text/plain": [
       "   IgA_Average_Morning  IgA_Average_Afternoon  Average_Difference\n",
       "0            21.765240              28.368055            6.602815\n",
       "1            28.473065              50.881961           22.408896\n",
       "2           161.424693              46.867951         -114.556742\n",
       "3            24.173487              35.942378           14.343241\n",
       "5            29.554870              45.078186           15.523316"
      ]
     },
     "execution_count": 171,
     "metadata": {},
     "output_type": "execute_result"
    }
   ],
   "source": [
    "df_for_reductions = df_concat[['IgA_Average_Morning', 'IgA_Average_Afternoon',\n",
    "       'Average_Difference']]\n",
    "df_for_reductions.head()"
   ]
  },
  {
   "cell_type": "code",
   "execution_count": 174,
   "id": "be9c96e7",
   "metadata": {},
   "outputs": [
    {
     "data": {
      "text/html": [
       "<div>\n",
       "<style scoped>\n",
       "    .dataframe tbody tr th:only-of-type {\n",
       "        vertical-align: middle;\n",
       "    }\n",
       "\n",
       "    .dataframe tbody tr th {\n",
       "        vertical-align: top;\n",
       "    }\n",
       "\n",
       "    .dataframe thead th {\n",
       "        text-align: right;\n",
       "    }\n",
       "</style>\n",
       "<table border=\"1\" class=\"dataframe\">\n",
       "  <thead>\n",
       "    <tr style=\"text-align: right;\">\n",
       "      <th></th>\n",
       "      <th>t-SNE1</th>\n",
       "      <th>t-SNE2</th>\n",
       "    </tr>\n",
       "  </thead>\n",
       "  <tbody>\n",
       "    <tr>\n",
       "      <th>0</th>\n",
       "      <td>-40.038315</td>\n",
       "      <td>-103.254570</td>\n",
       "    </tr>\n",
       "    <tr>\n",
       "      <th>1</th>\n",
       "      <td>-18.327919</td>\n",
       "      <td>-40.559719</td>\n",
       "    </tr>\n",
       "    <tr>\n",
       "      <th>2</th>\n",
       "      <td>-25.907005</td>\n",
       "      <td>123.936455</td>\n",
       "    </tr>\n",
       "    <tr>\n",
       "      <th>3</th>\n",
       "      <td>-19.642025</td>\n",
       "      <td>-75.309265</td>\n",
       "    </tr>\n",
       "    <tr>\n",
       "      <th>5</th>\n",
       "      <td>-9.900530</td>\n",
       "      <td>-51.558651</td>\n",
       "    </tr>\n",
       "  </tbody>\n",
       "</table>\n",
       "</div>"
      ],
      "text/plain": [
       "      t-SNE1      t-SNE2\n",
       "0 -40.038315 -103.254570\n",
       "1 -18.327919  -40.559719\n",
       "2 -25.907005  123.936455\n",
       "3 -19.642025  -75.309265\n",
       "5  -9.900530  -51.558651"
      ]
     },
     "execution_count": 174,
     "metadata": {},
     "output_type": "execute_result"
    }
   ],
   "source": [
    "tsne_instance = TSNE(n_components=2, perplexity=3)\n",
    "header = [\"t-SNE1\", \"t-SNE2\"]\n",
    "tsne_data_transformed = pd.DataFrame(\n",
    "    data=tsne_instance.fit_transform(df_for_reductions.values),\n",
    "    columns=header,\n",
    "    index=df_for_reductions.index)\n",
    "tsne_data_transformed.head(5)"
   ]
  },
  {
   "cell_type": "code",
   "execution_count": 175,
   "id": "a47f3c03",
   "metadata": {},
   "outputs": [
    {
     "data": {
      "text/html": [
       "<div>\n",
       "<style scoped>\n",
       "    .dataframe tbody tr th:only-of-type {\n",
       "        vertical-align: middle;\n",
       "    }\n",
       "\n",
       "    .dataframe tbody tr th {\n",
       "        vertical-align: top;\n",
       "    }\n",
       "\n",
       "    .dataframe thead th {\n",
       "        text-align: right;\n",
       "    }\n",
       "</style>\n",
       "<table border=\"1\" class=\"dataframe\">\n",
       "  <thead>\n",
       "    <tr style=\"text-align: right;\">\n",
       "      <th></th>\n",
       "      <th>t-SNE1</th>\n",
       "      <th>t-SNE2</th>\n",
       "      <th>Gender</th>\n",
       "      <th>IgA_Average_Morning</th>\n",
       "      <th>IgA_Average_Afternoon</th>\n",
       "      <th>Average_Difference</th>\n",
       "      <th>Attachment</th>\n",
       "    </tr>\n",
       "  </thead>\n",
       "  <tbody>\n",
       "    <tr>\n",
       "      <th>0</th>\n",
       "      <td>-40.038315</td>\n",
       "      <td>-103.254570</td>\n",
       "      <td>1</td>\n",
       "      <td>21.765240</td>\n",
       "      <td>28.368055</td>\n",
       "      <td>6.602815</td>\n",
       "      <td>Insecure</td>\n",
       "    </tr>\n",
       "    <tr>\n",
       "      <th>1</th>\n",
       "      <td>-18.327919</td>\n",
       "      <td>-40.559719</td>\n",
       "      <td>1</td>\n",
       "      <td>28.473065</td>\n",
       "      <td>50.881961</td>\n",
       "      <td>22.408896</td>\n",
       "      <td>Secure</td>\n",
       "    </tr>\n",
       "    <tr>\n",
       "      <th>2</th>\n",
       "      <td>-25.907005</td>\n",
       "      <td>123.936455</td>\n",
       "      <td>0</td>\n",
       "      <td>161.424693</td>\n",
       "      <td>46.867951</td>\n",
       "      <td>-114.556742</td>\n",
       "      <td>Secure</td>\n",
       "    </tr>\n",
       "    <tr>\n",
       "      <th>3</th>\n",
       "      <td>-19.642025</td>\n",
       "      <td>-75.309265</td>\n",
       "      <td>0</td>\n",
       "      <td>24.173487</td>\n",
       "      <td>35.942378</td>\n",
       "      <td>14.343241</td>\n",
       "      <td>Insecure</td>\n",
       "    </tr>\n",
       "    <tr>\n",
       "      <th>5</th>\n",
       "      <td>-9.900530</td>\n",
       "      <td>-51.558651</td>\n",
       "      <td>0</td>\n",
       "      <td>29.554870</td>\n",
       "      <td>45.078186</td>\n",
       "      <td>15.523316</td>\n",
       "      <td>Secure</td>\n",
       "    </tr>\n",
       "  </tbody>\n",
       "</table>\n",
       "</div>"
      ],
      "text/plain": [
       "      t-SNE1      t-SNE2  Gender  IgA_Average_Morning  IgA_Average_Afternoon  \\\n",
       "0 -40.038315 -103.254570       1            21.765240              28.368055   \n",
       "1 -18.327919  -40.559719       1            28.473065              50.881961   \n",
       "2 -25.907005  123.936455       0           161.424693              46.867951   \n",
       "3 -19.642025  -75.309265       0            24.173487              35.942378   \n",
       "5  -9.900530  -51.558651       0            29.554870              45.078186   \n",
       "\n",
       "   Average_Difference Attachment  \n",
       "0            6.602815   Insecure  \n",
       "1           22.408896     Secure  \n",
       "2         -114.556742     Secure  \n",
       "3           14.343241   Insecure  \n",
       "5           15.523316     Secure  "
      ]
     },
     "execution_count": 175,
     "metadata": {},
     "output_type": "execute_result"
    }
   ],
   "source": [
    "tsne_data_transformed = pd.concat([tsne_data_transformed, df_concat], axis=1)\n",
    "tsne_data_transformed.head(5)"
   ]
  },
  {
   "cell_type": "code",
   "execution_count": 179,
   "id": "3238f711",
   "metadata": {},
   "outputs": [],
   "source": [
    "tsne_data_transformed['Gender'] = tsne_data_transformed['Gender'].replace({0:\"Female\", 1:\"Male\"})"
   ]
  },
  {
   "cell_type": "code",
   "execution_count": 184,
   "id": "5f9a41b0",
   "metadata": {},
   "outputs": [
    {
     "data": {
      "image/png": "[encoded data removed]",
      "text/plain": [
       "<Figure size 800x600 with 1 Axes>"
      ]
     },
     "metadata": {},
     "output_type": "display_data"
    }
   ],
   "source": [
    "import seaborn as sns\n",
    "import matplotlib.pyplot as plt\n",
    "from matplotlib.lines import Line2D\n",
    "\n",
    "# Estilo general\n",
    "sns.set(style=\"whitegrid\", font_scale=1.3)\n",
    "\n",
    "# Crear figura y eje\n",
    "fig, ax = plt.subplots(figsize=(8, 6))\n",
    "\n",
    "# Paletas y marcadores\n",
    "palette = {\n",
    "    \"Insecure\": \"#EF476F\",\n",
    "    \"(P) Insecure\": \"#FFD166\",\n",
    "    \"Secure\": \"#06D6A0\",\n",
    "    \"(P) Secure\": \"#118AB2\"\n",
    "}\n",
    "markers = {\"Male\": \"o\", \"Female\": \"s\"}\n",
    "\n",
    "# Scatterplot principal\n",
    "sns.scatterplot(\n",
    "    ax=ax,\n",
    "    data=tsne_data_transformed,\n",
    "    x=\"t-SNE1\",\n",
    "    y=\"t-SNE2\",\n",
    "    hue=\"Attachment\",\n",
    "    style=\"Gender\",\n",
    "    palette=palette,\n",
    "    markers=markers,\n",
    "    s=180,\n",
    "    edgecolor=\"black\"\n",
    ")\n",
    "\n",
    "# Títulos y etiquetas\n",
    "ax.set_title(\"t-SNE Projection of Immune Profiles by Attachment and Gender\", fontsize=16, pad=15)\n",
    "ax.set_xlabel(\"t-SNE 1\", fontsize=14)\n",
    "ax.set_ylabel(\"t-SNE 2\", fontsize=14)\n",
    "\n",
    "# Quitar la leyenda automática\n",
    "ax.get_legend().remove()\n",
    "\n",
    "# Leyenda personalizada (Attachment / Gender)\n",
    "legend_elements = [\n",
    "    Line2D([0], [0], marker='o', color='w', label='Secure / Male',\n",
    "           markerfacecolor=palette[\"Secure\"], markeredgecolor='black', markersize=10),\n",
    "    Line2D([0], [0], marker='s', color='w', label='Secure / Female',\n",
    "           markerfacecolor=palette[\"Secure\"], markeredgecolor='black', markersize=10),\n",
    "    Line2D([0], [0], marker='o', color='w', label='(P) Secure / Male',\n",
    "           markerfacecolor=palette[\"(P) Secure\"], markeredgecolor='black', markersize=10),\n",
    "    Line2D([0], [0], marker='s', color='w', label='(P) Secure / Female',\n",
    "           markerfacecolor=palette[\"(P) Secure\"], markeredgecolor='black', markersize=10),\n",
    "    Line2D([0], [0], marker='o', color='w', label='Insecure / Male',\n",
    "           markerfacecolor=palette[\"Insecure\"], markeredgecolor='black', markersize=10),\n",
    "    Line2D([0], [0], marker='s', color='w', label='Insecure / Female',\n",
    "           markerfacecolor=palette[\"Insecure\"], markeredgecolor='black', markersize=10),\n",
    "    Line2D([0], [0], marker='o', color='w', label='(P) Insecure / Male',\n",
    "           markerfacecolor=palette[\"(P) Insecure\"], markeredgecolor='black', markersize=10),\n",
    "    Line2D([0], [0], marker='s', color='w', label='(P) Insecure / Female',\n",
    "           markerfacecolor=palette[\"(P) Insecure\"], markeredgecolor='black', markersize=10),\n",
    "]\n",
    "\n",
    "# Añadir leyenda final\n",
    "fig.legend(\n",
    "    handles=legend_elements,\n",
    "    title=\"Attachment / Gender\",\n",
    "    loc='lower center',\n",
    "    bbox_to_anchor=(0.5, -0.15),\n",
    "    ncol=4,\n",
    "    frameon=False,\n",
    "    fontsize=11,\n",
    "    title_fontsize=13\n",
    ")\n",
    "\n",
    "plt.tight_layout()\n",
    "plt.subplots_adjust(bottom=0.25)\n",
    "plt.show()\n",
    "\n"
   ]
  }
 ],
 "metadata": {
  "kernelspec": {
   "display_name": "training_models_pi",
   "language": "python",
   "name": "python3"
  },
  "language_info": {
   "codemirror_mode": {
    "name": "ipython",
    "version": 3
   },
   "file_extension": ".py",
   "mimetype": "text/x-python",
   "name": "python",
   "nbconvert_exporter": "python",
   "pygments_lexer": "ipython3",
   "version": "3.12.8"
  }
 },
 "nbformat": 4,
 "nbformat_minor": 5
}

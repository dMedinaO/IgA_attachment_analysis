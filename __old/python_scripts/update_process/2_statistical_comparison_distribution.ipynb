{
 "cells": [
  {
   "cell_type": "code",
   "execution_count": 1,
   "metadata": {},
   "outputs": [],
   "source": [
    "import pandas as pd\n",
    "from scipy import stats"
   ]
  },
  {
   "cell_type": "code",
   "execution_count": 2,
   "metadata": {},
   "outputs": [],
   "source": [
    "def create_list_df(column_to_check, df_data, columns_with_measures):\n",
    "    columns_to_data = columns_with_measures + [column_to_check]\n",
    "\n",
    "    df_to_work = df_data[columns_to_data]\n",
    "    df_to_work = df_to_work.dropna()\n",
    "\n",
    "    unique_values = df_to_work[column_to_check].unique()\n",
    "\n",
    "    list_df = []\n",
    "\n",
    "    for element in unique_values:\n",
    "        df_filter = df_to_work.loc[df_to_work[column_to_check] == element]\n",
    "        list_df.append(df_filter)\n",
    "    \n",
    "    return list_df"
   ]
  },
  {
   "cell_type": "code",
   "execution_count": 3,
   "metadata": {},
   "outputs": [],
   "source": [
    "def compare_distributions_measures(dict_distributions):\n",
    "    args=[]\n",
    "\n",
    "    for key in dict_distributions:\n",
    "        args.append(dict_distributions[key])\n",
    "    \n",
    "    response_test = stats.kruskal(*args)\n",
    "    return response_test"
   ]
  },
  {
   "cell_type": "code",
   "execution_count": 4,
   "metadata": {},
   "outputs": [],
   "source": [
    "def statistical_comparison (columns_with_measures, column_to_check, list_df):\n",
    "    matrix_response = []\n",
    "\n",
    "    for measure in columns_with_measures:\n",
    "        data_to_process = {}\n",
    "\n",
    "        for element in list_df:\n",
    "            value_columns = element[measure].tolist()\n",
    "            value_category = element[column_to_check].unique()[0]\n",
    "            data_to_process.update({value_category:value_columns})\n",
    "\n",
    "        response_test = compare_distributions_measures(data_to_process)\n",
    "        \n",
    "        row_response = [measure, response_test[0], response_test[1]]\n",
    "\n",
    "        if response_test[1] >0.1:\n",
    "            row_response.append(-1)\n",
    "        elif response_test[1] <=0.1 and response_test[1] >0.05:\n",
    "            row_response.append(1)    \n",
    "        elif response_test[1] <=0.05 and response_test[1] >0.01:\n",
    "            row_response.append(2)\n",
    "        else:\n",
    "            row_response.append(3)\n",
    "\n",
    "        matrix_response.append(row_response)\n",
    "\n",
    "    return matrix_response"
   ]
  },
  {
   "cell_type": "code",
   "execution_count": 11,
   "metadata": {},
   "outputs": [],
   "source": [
    "def process_data_statistical_comparison(dataset, columns_with_measures):\n",
    "    list_full_comparison = []\n",
    "\n",
    "    for column in dataset.columns:\n",
    "        if column not in ['id_name', \"N°_diada\", 'm1','m2','m3','m4','N°_diada', \"average_m\", \"average_t\", \"average_d1\", \"average_d2\"]:\n",
    "            try:\n",
    "                list_df = create_list_df(column, dataset, columns_with_measures)\n",
    "                response_full_comparison = statistical_comparison (columns_with_measures, column, list_df)\n",
    "\n",
    "                df_comparison = pd.DataFrame(response_full_comparison, columns=['measure', 'statistic', 'p-value', 'significance'])\n",
    "                df_comparison['variable'] = column\n",
    "                list_full_comparison.append(df_comparison)\n",
    "            except:\n",
    "                pass\n",
    "\n",
    "    df_summary = pd.concat(list_full_comparison, axis=0)\n",
    "    df_summary = df_summary[df_summary[\"significance\"] != -1]\n",
    "    df_summary = df_summary.sort_values(by=['significance'], ascending=False)\n",
    "    return df_summary\n"
   ]
  },
  {
   "cell_type": "code",
   "execution_count": 12,
   "metadata": {},
   "outputs": [],
   "source": [
    "df_data = pd.read_csv(\"../../results_update_process/data_with_features_average.csv\")\n",
    "columns_with_measures = ['m1', 'm2', 'm3', 'm4']\n",
    "df_summary_full = process_data_statistical_comparison(df_data, columns_with_measures)\n"
   ]
  },
  {
   "cell_type": "code",
   "execution_count": 14,
   "metadata": {},
   "outputs": [
    {
     "data": {
      "text/plain": [
       "Index(['id_name', 'ADS_CHILD_M', 'ADS_CHILD_V', 'ADS_CHILD_TA', 'ADS_CHILD_SA',\n",
       "       'ADS_CHILD_A', 'ADS_CHILD_P', 'ADS_MAIN_CAREGIVER_M',\n",
       "       'ADS_MAIN_CAREGIVER_V', 'ADS_MAIN_CAREGIVER_TA',\n",
       "       'ADS_MAIN_CAREGIVER_SA', 'ADS_MAIN_CAREGIVER_A', 'ADS_MAIN_CAREGIVER_P',\n",
       "       'Attachment_ads', 'apego_SSP', 'Apego_dic_ADS', 'Apego_dic_SSP', 'm1',\n",
       "       'm2', 'm3', 'm4', 'change_attachment_y', 'sensitivity2',\n",
       "       'cis_total_mean', 'Rango_ITERS_y', 'insecure_bebe2', 'Género_bebé_y',\n",
       "       'Grupo_étnico_bebé_y', 'average_m', 'average_t', 'average_d1',\n",
       "       'average_d2'],\n",
       "      dtype='object')"
      ]
     },
     "execution_count": 14,
     "metadata": {},
     "output_type": "execute_result"
    }
   ],
   "source": [
    "df_data.columns"
   ]
  },
  {
   "cell_type": "code",
   "execution_count": 7,
   "metadata": {},
   "outputs": [],
   "source": [
    "columns_with_measures = ['average_m', 'average_t']\n",
    "df_summary_jornada = process_data_statistical_comparison(df_data, columns_with_measures)"
   ]
  },
  {
   "cell_type": "code",
   "execution_count": 8,
   "metadata": {},
   "outputs": [],
   "source": [
    "columns_with_measures = ['average_d1', 'average_d2']\n",
    "df_summary_dia = process_data_statistical_comparison(df_data, columns_with_measures)"
   ]
  },
  {
   "cell_type": "code",
   "execution_count": 9,
   "metadata": {},
   "outputs": [
    {
     "data": {
      "text/html": [
       "<div>\n",
       "<style scoped>\n",
       "    .dataframe tbody tr th:only-of-type {\n",
       "        vertical-align: middle;\n",
       "    }\n",
       "\n",
       "    .dataframe tbody tr th {\n",
       "        vertical-align: top;\n",
       "    }\n",
       "\n",
       "    .dataframe thead th {\n",
       "        text-align: right;\n",
       "    }\n",
       "</style>\n",
       "<table border=\"1\" class=\"dataframe\">\n",
       "  <thead>\n",
       "    <tr style=\"text-align: right;\">\n",
       "      <th></th>\n",
       "      <th>measure</th>\n",
       "      <th>statistic</th>\n",
       "      <th>p-value</th>\n",
       "      <th>significance</th>\n",
       "      <th>variable</th>\n",
       "    </tr>\n",
       "  </thead>\n",
       "  <tbody>\n",
       "    <tr>\n",
       "      <th>0</th>\n",
       "      <td>average_d1</td>\n",
       "      <td>6.547451</td>\n",
       "      <td>0.037865</td>\n",
       "      <td>2</td>\n",
       "      <td>ADS_MAIN_CAREGIVER_P</td>\n",
       "    </tr>\n",
       "    <tr>\n",
       "      <th>0</th>\n",
       "      <td>average_d1</td>\n",
       "      <td>6.266636</td>\n",
       "      <td>0.099334</td>\n",
       "      <td>1</td>\n",
       "      <td>ADS_CHILD_TA</td>\n",
       "    </tr>\n",
       "    <tr>\n",
       "      <th>0</th>\n",
       "      <td>average_d1</td>\n",
       "      <td>6.387069</td>\n",
       "      <td>0.094224</td>\n",
       "      <td>1</td>\n",
       "      <td>ADS_CHILD_SA</td>\n",
       "    </tr>\n",
       "    <tr>\n",
       "      <th>0</th>\n",
       "      <td>average_d1</td>\n",
       "      <td>5.175132</td>\n",
       "      <td>0.075203</td>\n",
       "      <td>1</td>\n",
       "      <td>change_attachment_y</td>\n",
       "    </tr>\n",
       "    <tr>\n",
       "      <th>1</th>\n",
       "      <td>average_d2</td>\n",
       "      <td>3.125438</td>\n",
       "      <td>0.077079</td>\n",
       "      <td>1</td>\n",
       "      <td>Rango_ITERS_y</td>\n",
       "    </tr>\n",
       "  </tbody>\n",
       "</table>\n",
       "</div>"
      ],
      "text/plain": [
       "      measure  statistic   p-value  significance              variable\n",
       "0  average_d1   6.547451  0.037865             2  ADS_MAIN_CAREGIVER_P\n",
       "0  average_d1   6.266636  0.099334             1          ADS_CHILD_TA\n",
       "0  average_d1   6.387069  0.094224             1          ADS_CHILD_SA\n",
       "0  average_d1   5.175132  0.075203             1   change_attachment_y\n",
       "1  average_d2   3.125438  0.077079             1         Rango_ITERS_y"
      ]
     },
     "execution_count": 9,
     "metadata": {},
     "output_type": "execute_result"
    }
   ],
   "source": [
    "df_summary_dia"
   ]
  },
  {
   "cell_type": "code",
   "execution_count": 10,
   "metadata": {},
   "outputs": [
    {
     "data": {
      "text/html": [
       "<div>\n",
       "<style scoped>\n",
       "    .dataframe tbody tr th:only-of-type {\n",
       "        vertical-align: middle;\n",
       "    }\n",
       "\n",
       "    .dataframe tbody tr th {\n",
       "        vertical-align: top;\n",
       "    }\n",
       "\n",
       "    .dataframe thead th {\n",
       "        text-align: right;\n",
       "    }\n",
       "</style>\n",
       "<table border=\"1\" class=\"dataframe\">\n",
       "  <thead>\n",
       "    <tr style=\"text-align: right;\">\n",
       "      <th></th>\n",
       "      <th>measure</th>\n",
       "      <th>statistic</th>\n",
       "      <th>p-value</th>\n",
       "      <th>significance</th>\n",
       "      <th>variable</th>\n",
       "    </tr>\n",
       "  </thead>\n",
       "  <tbody>\n",
       "    <tr>\n",
       "      <th>1</th>\n",
       "      <td>average_t</td>\n",
       "      <td>6.547451</td>\n",
       "      <td>0.037865</td>\n",
       "      <td>2</td>\n",
       "      <td>ADS_MAIN_CAREGIVER_P</td>\n",
       "    </tr>\n",
       "    <tr>\n",
       "      <th>1</th>\n",
       "      <td>average_t</td>\n",
       "      <td>6.266636</td>\n",
       "      <td>0.099334</td>\n",
       "      <td>1</td>\n",
       "      <td>ADS_CHILD_TA</td>\n",
       "    </tr>\n",
       "    <tr>\n",
       "      <th>1</th>\n",
       "      <td>average_t</td>\n",
       "      <td>6.387069</td>\n",
       "      <td>0.094224</td>\n",
       "      <td>1</td>\n",
       "      <td>ADS_CHILD_SA</td>\n",
       "    </tr>\n",
       "    <tr>\n",
       "      <th>0</th>\n",
       "      <td>average_m</td>\n",
       "      <td>3.240741</td>\n",
       "      <td>0.071828</td>\n",
       "      <td>1</td>\n",
       "      <td>Apego_dic_SSP</td>\n",
       "    </tr>\n",
       "    <tr>\n",
       "      <th>1</th>\n",
       "      <td>average_t</td>\n",
       "      <td>5.175132</td>\n",
       "      <td>0.075203</td>\n",
       "      <td>1</td>\n",
       "      <td>change_attachment_y</td>\n",
       "    </tr>\n",
       "  </tbody>\n",
       "</table>\n",
       "</div>"
      ],
      "text/plain": [
       "     measure  statistic   p-value  significance              variable\n",
       "1  average_t   6.547451  0.037865             2  ADS_MAIN_CAREGIVER_P\n",
       "1  average_t   6.266636  0.099334             1          ADS_CHILD_TA\n",
       "1  average_t   6.387069  0.094224             1          ADS_CHILD_SA\n",
       "0  average_m   3.240741  0.071828             1         Apego_dic_SSP\n",
       "1  average_t   5.175132  0.075203             1   change_attachment_y"
      ]
     },
     "execution_count": 10,
     "metadata": {},
     "output_type": "execute_result"
    }
   ],
   "source": [
    "df_summary_jornada"
   ]
  }
 ],
 "metadata": {
  "kernelspec": {
   "display_name": "develop",
   "language": "python",
   "name": "python3"
  },
  "language_info": {
   "codemirror_mode": {
    "name": "ipython",
    "version": 3
   },
   "file_extension": ".py",
   "mimetype": "text/x-python",
   "name": "python",
   "nbconvert_exporter": "python",
   "pygments_lexer": "ipython3",
   "version": "3.12.3"
  }
 },
 "nbformat": 4,
 "nbformat_minor": 2
}
